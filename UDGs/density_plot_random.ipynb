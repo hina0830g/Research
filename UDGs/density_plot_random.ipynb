{
 "cells": [
  {
   "cell_type": "markdown",
   "metadata": {},
   "source": [
    "# density plot generator"
   ]
  },
  {
   "cell_type": "code",
   "execution_count": 1,
   "metadata": {},
   "outputs": [],
   "source": [
    "import numpy as np\n",
    "import matplotlib.pyplot as plt\n",
    "import pandas as pd\n",
    "import scipy\n",
    "from scipy import stats\n",
    "from scipy import integrate\n",
    "import random"
   ]
  },
  {
   "cell_type": "code",
   "execution_count": 66,
   "metadata": {},
   "outputs": [
    {
     "name": "stdout",
     "output_type": "stream",
     "text": [
      "bin size adjusted to result_hina_5.0.csv\n"
     ]
    }
   ],
   "source": [
    "\n",
    "sz = 5.0\n",
    "#result = pd.read_csv('result_Simbad_z_modified.csv')\n",
    "\n",
    "fname = 'result_hina_' + str(sz) + '.csv'\n",
    "print('bin size adjusted to' ,fname)\n",
    "#result = pd.read_csv('hina/result_hina_15.0.csv')\n",
    "result = pd.read_csv('result_Simbad_z_modified_rand.csv')\n"
   ]
  },
  {
   "cell_type": "code",
   "execution_count": 67,
   "metadata": {
    "tags": []
   },
   "outputs": [],
   "source": [
    "sep_all, sep_blue, sep_red = np.array([]),np.array([]),np.array([])\n",
    "\n",
    "# set minimium projected separation\n",
    "min_sep = 0.1\n",
    "for i in range(len(result)): \n",
    "    if result.loc[i,'separation'] > min_sep and result.loc[i,'color'] < 0.9:\n",
    "        sep_all = np.append(sep_all, result.loc[i,'separation'])\n",
    "        if (result.loc[i,'color'] < 0.45):\n",
    "            sep_blue = np.append(sep_blue, result.loc[i,'separation'])\n",
    "        elif (result.loc[i,'color'] < 0.9):\n",
    "            sep_red = np.append(sep_red, result.loc[i,'separation'])      \n",
    "\n",
    "#len_udg = len(sep_all)\n",
    "#len_udg_red = len(sep_red)\n",
    "#len_udg_blue = len(sep_blue)"
   ]
  },
  {
   "cell_type": "code",
   "execution_count": 68,
   "metadata": {},
   "outputs": [],
   "source": [
    "# Calculates the number of UDGs in the catalog\n",
    "cat = pd.read_csv('DESI_UDGs_new_catalog.csv')\n",
    "color = cat['mag_g'] - cat['mag_r']\n",
    "all_udg, red_udg, blue_udg = np.array([]), np.array([]), np.array([])\n",
    "for i in range(len(cat)):\n",
    "    if color[i] < .45:\n",
    "        blue_udg = np.append(blue_udg, color[i])\n",
    "    elif color[i] < .9:\n",
    "        red_udg = np.append(red_udg, color[i])\n",
    "len_udg = len(cat)\n",
    "len_udg_red = len(red_udg)\n",
    "len_udg_blue = len(blue_udg)"
   ]
  },
  {
   "cell_type": "code",
   "execution_count": 69,
   "metadata": {},
   "outputs": [
    {
     "data": {
      "text/plain": [
       "(5760, 4166, 1537)"
      ]
     },
     "execution_count": 69,
     "metadata": {},
     "output_type": "execute_result"
    }
   ],
   "source": [
    "len_udg, len_udg_red, len_udg_blue"
   ]
  },
  {
   "cell_type": "code",
   "execution_count": 70,
   "metadata": {},
   "outputs": [
    {
     "name": "stdout",
     "output_type": "stream",
     "text": [
      "1003 matches to red UDGs; 407 matches to blue UDGs; 1410 total matches\n"
     ]
    }
   ],
   "source": [
    "print(len(sep_red),'matches to red UDGs;', len(sep_blue), 'matches to blue UDGs;',len(sep_all),'total matches')"
   ]
  },
  {
   "cell_type": "code",
   "execution_count": 71,
   "metadata": {},
   "outputs": [
    {
     "name": "stdout",
     "output_type": "stream",
     "text": [
      "[10.  9. 16. 24. 30. 33. 37. 38. 42. 40. 36. 45. 42. 60. 61. 66. 72. 58.\n",
      " 80. 80. 57. 88. 82. 92. 83. 63. 66.]\n"
     ]
    },
    {
     "data": {
      "text/plain": [
       "array([0.10646947, 0.15792439, 0.20937931, 0.26083423, 0.31228915,\n",
       "       0.36374407, 0.41519899, 0.46665391, 0.51810883, 0.56956375,\n",
       "       0.62101867, 0.67247359, 0.7239285 , 0.77538342, 0.82683834,\n",
       "       0.87829326, 0.92974818, 0.9812031 , 1.03265802, 1.08411294,\n",
       "       1.13556786, 1.18702278, 1.2384777 , 1.28993262, 1.34138754,\n",
       "       1.39284246, 1.44429738, 1.4957523 ])"
      ]
     },
     "execution_count": 71,
     "metadata": {},
     "output_type": "execute_result"
    },
    {
     "data": {
      "image/png": "[encoded data removed]",
      "text/plain": [
       "<Figure size 432x288 with 1 Axes>"
      ]
     },
     "metadata": {
      "needs_background": "light"
     },
     "output_type": "display_data"
    }
   ],
   "source": [
    "fig, ax = plt.subplots()\n",
    "\n",
    "ax.set(title='separation for all UDGs', xlabel='log(separation in Mpc)')\n",
    "\n",
    "# lets make bins be the same width regardless of which file is used (normalized to 15 bins for result_hina_1.csv\n",
    "# 5 bins for sz = 1\n",
    "bins = int(5*(sz-min_sep)/(1-min_sep))\n",
    "hist_UDGs = plt.hist(sep_all, bins=bins, density=False)\n",
    "plt.gca().set_xscale('log') # changes the scale to log\n",
    "\n",
    "plt.show\n",
    "#plt.legend;\n",
    "print(hist_UDGs[0])\n",
    "hist_UDGs[1] # edges of each bin (=x values), which later will be used as radius "
   ]
  },
  {
   "cell_type": "code",
   "execution_count": 72,
   "metadata": {},
   "outputs": [
    {
     "data": {
      "text/plain": [
       "<function matplotlib.pyplot.show(close=None, block=None)>"
      ]
     },
     "execution_count": 72,
     "metadata": {},
     "output_type": "execute_result"
    },
    {
     "data": {
      "image/png": "[encoded data removed]",
      "text/plain": [
       "<Figure size 432x288 with 1 Axes>"
      ]
     },
     "metadata": {
      "needs_background": "light"
     },
     "output_type": "display_data"
    }
   ],
   "source": [
    "# Creates the histogram of red UDGs\n",
    "#redhist = plt.hist(red, bins=15)#bins_list)\n",
    "#plt.gca().set_xscale('log')\n",
    "fig, ax = plt.subplots()\n",
    "ax.set(title='separation for red UDGs', xlabel='log(separation in Mpc)')\n",
    "\n",
    "redhist = plt.hist(sep_red, bins=bins)\n",
    "plt.gca().set_xscale('log') # changes the scale to log\n",
    "\n",
    "plt.show\n",
    "#redhist[0]"
   ]
  },
  {
   "cell_type": "code",
   "execution_count": 73,
   "metadata": {},
   "outputs": [
    {
     "data": {
      "text/plain": [
       "array([1.24629788, 0.97212292, 0.44722502, 0.75519299, 0.99130608,\n",
       "       1.34829478, 1.48343021, 0.91492237, 0.85878191, 1.28199564,\n",
       "       0.27776009, 0.41654049, 0.43896793, 0.47163486, 0.76023006,\n",
       "       0.71468687, 1.34326229, 1.19622335, 1.32754419, 1.38116813,\n",
       "       0.65529031, 1.37013302, 0.38643244, 1.37675075, 0.58470498,\n",
       "       1.03551412, 1.10735461, 1.11574404, 0.3330349 , 0.68114729,\n",
       "       0.42818443, 0.92244294, 0.99630983, 1.25298208, 0.64224395,\n",
       "       0.68420678, 0.71735307, 0.75044541, 1.02106442, 1.20533333,\n",
       "       1.33736857, 1.19232573, 1.3195943 , 1.3488773 , 1.4642585 ,\n",
       "       1.25592423, 0.55049222, 1.08989463, 1.43732176, 1.19501178,\n",
       "       1.23215922, 0.80711061, 0.113116  , 0.98732491, 1.27866359,\n",
       "       0.19141512, 0.34290533, 1.04759463, 1.31140856, 0.30262   ,\n",
       "       1.08615655, 0.77591092, 0.58859106, 1.16445249, 0.73508498,\n",
       "       1.23316841, 0.77106719, 1.44806165, 1.43918447, 1.39630075,\n",
       "       1.29342762, 1.16795276, 1.39084957, 1.37202285, 0.9241506 ,\n",
       "       1.46902712, 0.29012199, 1.41999883, 0.57776218, 0.65897548,\n",
       "       0.77582001, 0.70855284, 0.36599834, 1.41277799, 1.07084963,\n",
       "       1.17913132, 1.03109793, 0.95369027, 1.24610355, 0.83255092,\n",
       "       0.46474659, 0.3987771 , 0.93894875, 0.8221233 , 0.38262871,\n",
       "       0.64931273, 0.70696631, 1.13791513, 1.36044696, 0.90140783,\n",
       "       1.02069226, 1.29338726, 1.35069692, 0.48322566, 1.21045851,\n",
       "       0.99797484, 0.31393492, 0.4248683 , 0.42244353, 0.53022658,\n",
       "       1.09373649, 0.7710216 , 1.04005225, 1.16152188, 1.48876161,\n",
       "       1.35944133, 1.41224854, 0.9643487 , 1.03283256, 0.90194648,\n",
       "       1.01996604, 1.37133189, 0.97390318, 1.30966812, 1.46973217,\n",
       "       1.15471513, 1.32816855, 0.70962268, 1.4725865 , 0.26953832,\n",
       "       0.80675736, 1.30475705, 0.63368055, 0.95546134, 1.08107675,\n",
       "       1.20618982, 1.31591679, 0.91628007, 1.14909768, 1.15120098,\n",
       "       0.53623638, 0.83034538, 0.88823295, 1.22269354, 0.87149889,\n",
       "       0.82506312, 1.01204934, 1.29592428, 1.34708328, 0.25195674,\n",
       "       0.8205679 , 1.2431996 , 1.00403974, 1.35787409, 1.39029294,\n",
       "       0.59851489, 0.53222191, 0.79345425, 0.71977527, 0.95185927,\n",
       "       1.22804841, 1.32925992, 1.42713094, 0.89851893, 1.19450946,\n",
       "       1.32997582, 1.27848643, 1.35990233, 0.3160235 , 1.00437343,\n",
       "       1.14882085, 1.19652253, 1.24306629, 1.29551265, 0.84426947,\n",
       "       1.19405983, 1.13466419, 0.60686597, 1.24226547, 1.37164925,\n",
       "       0.67051403, 0.84395611, 0.86805575, 1.05745075, 0.33439083,\n",
       "       0.72334113, 0.72163705, 1.19609566, 1.48428409, 0.28303121,\n",
       "       0.58057586, 0.92182561, 0.95757889, 1.1075084 , 1.4566106 ,\n",
       "       0.80268408, 0.96267238, 1.17596375, 1.20100106, 1.33459213,\n",
       "       0.65992535, 1.47803815, 1.29680495, 1.10209827, 1.43444862,\n",
       "       1.08137612, 1.0920004 , 1.28355248, 1.17099671, 1.38479802,\n",
       "       1.39480261, 0.53749151, 1.28436107, 0.22722181, 1.33676103,\n",
       "       1.30699711, 1.17176145, 1.17957187, 1.34681967, 1.36743915,\n",
       "       0.18209229, 0.27784455, 0.68582395, 0.80086878, 1.07354129,\n",
       "       1.42243655, 0.69467424, 1.13248838, 1.34559713, 1.37015369,\n",
       "       0.98103236, 0.82808884, 1.12880386, 1.3654257 , 0.82257287,\n",
       "       1.15638693, 1.21110239, 1.47161663, 1.08920694, 0.4989155 ,\n",
       "       1.39183448, 0.62550345, 0.61344726, 0.31879681, 1.33859691,\n",
       "       0.57650564, 0.69904524, 0.53871614, 0.862672  , 0.53231984,\n",
       "       0.25826718, 1.37647035, 1.12247099, 1.31165842, 0.89759402,\n",
       "       1.41659759, 0.75621873, 1.26529915, 1.1736275 , 1.28928473,\n",
       "       1.35780945, 1.21220696, 0.45355123, 0.66130244, 0.82123225,\n",
       "       0.47182821, 0.75023791, 0.90245634, 0.97440344, 1.01178365,\n",
       "       1.10972882, 1.31463402, 0.59526349, 0.77433825, 1.39085887,\n",
       "       0.30840721, 0.45608084, 0.78359498, 0.81307191, 0.81983298,\n",
       "       0.86552876, 1.10304769, 1.1153974 , 1.1796036 , 1.19238732,\n",
       "       1.36389638, 0.75673501, 0.32302336, 0.9697134 , 1.08942684,\n",
       "       1.26136003, 0.79594371, 0.92575339, 1.02155384, 1.14925952,\n",
       "       1.22332883, 1.19194755, 1.23700086, 1.37602042, 1.34590407,\n",
       "       1.24765362, 1.22421755, 1.18642504, 0.95055372, 0.88697199,\n",
       "       0.90640837, 1.08822834, 1.04800836, 1.04176488, 1.02508425,\n",
       "       1.24468067, 1.37442894, 0.47662559, 0.9664749 , 0.91115704,\n",
       "       0.98910996, 1.01071975, 0.96761222, 1.23553231, 1.48435055,\n",
       "       0.45085287, 0.54008729, 1.23811189, 1.32570187, 0.68368295,\n",
       "       0.70147509, 0.74945703, 0.7891379 , 0.87572829, 0.9390053 ,\n",
       "       1.0529973 , 1.4383574 , 1.38212815, 0.81275179, 0.83590502,\n",
       "       1.30538307, 0.8452401 , 0.90910122, 1.31380781, 1.36589544,\n",
       "       1.36305658, 0.3191354 , 0.46546571, 0.47639632, 0.49373396,\n",
       "       0.68144322, 0.81358923, 1.01988811, 1.10202036, 1.08792706,\n",
       "       1.11061104, 0.54018467, 1.15041662, 1.06927759, 1.23510189,\n",
       "       1.12049247, 1.24864693, 0.22899939, 0.79621043, 0.80235263,\n",
       "       0.86444625, 0.61039858, 1.00087951, 1.4431    , 1.36234534,\n",
       "       0.95415319, 1.19899016, 1.21359182, 0.733625  , 0.51443953,\n",
       "       0.42307602, 0.58940666, 0.47513159, 0.65673207, 0.91177724,\n",
       "       0.90560322, 0.9347084 , 0.96693351, 0.98526232, 1.0489287 ,\n",
       "       1.31745059, 0.40299043, 0.60919196, 1.14761792, 0.97922785,\n",
       "       0.97792949, 1.34751841, 0.68251141, 0.67907725, 1.05325171,\n",
       "       0.53189311, 0.66198424, 1.30999797, 1.35504613, 1.42656695,\n",
       "       1.47333057, 0.33746133, 0.80276227, 0.85832879, 1.13308852,\n",
       "       1.2195369 , 1.39754138, 1.39515381, 0.63716395, 1.45711834,\n",
       "       0.26991091, 0.27160612])"
      ]
     },
     "execution_count": 73,
     "metadata": {},
     "output_type": "execute_result"
    }
   ],
   "source": [
    "sep_blue"
   ]
  },
  {
   "cell_type": "code",
   "execution_count": 74,
   "metadata": {},
   "outputs": [
    {
     "data": {
      "text/plain": [
       "<function matplotlib.pyplot.show(close=None, block=None)>"
      ]
     },
     "execution_count": 74,
     "metadata": {},
     "output_type": "execute_result"
    },
    {
     "data": {
      "image/png": "[encoded data removed]",
      "text/plain": [
       "<Figure size 432x288 with 1 Axes>"
      ]
     },
     "metadata": {
      "needs_background": "light"
     },
     "output_type": "display_data"
    }
   ],
   "source": [
    "# Creates the histogram of blue UDGs\n",
    "fig, ax = plt.subplots()\n",
    "ax.set(title='separation for blue UDGs', xlabel='log(separation in Mpc)')\n",
    "\n",
    "bluehist = plt.hist(sep_blue, bins=bins)\n",
    "plt.gca().set_xscale('log') # changes the scale to log\n",
    "\n",
    "plt.show"
   ]
  },
  {
   "cell_type": "code",
   "execution_count": 75,
   "metadata": {},
   "outputs": [],
   "source": [
    "# ---Calculate/define uncertainty below---\n",
    "# uncertainty = sqrt(n)\n",
    "import uncertainties\n",
    "from uncertainties import unumpy as unp\n",
    "# XX_err are arrays of values +/- uncertainty\n",
    "all_err = unp.uarray(hist_UDGs[0], np.sqrt(hist_UDGs[0]))\n",
    "red_err = unp.uarray(redhist[0], np.sqrt(redhist[0]))\n",
    "blue_err = unp.uarray(bluehist[0], np.sqrt(bluehist[0]))"
   ]
  },
  {
   "cell_type": "code",
   "execution_count": 76,
   "metadata": {},
   "outputs": [
    {
     "name": "stdout",
     "output_type": "stream",
     "text": [
      "[0.04273937 0.05937479 0.07601021 0.09264562 0.10928104 0.12591645\n",
      " 0.14255187 0.15918729 0.1758227  0.19245812 0.20909354 0.22572895\n",
      " 0.24236437 0.25899978 0.2756352  0.29227062 0.30890603 0.32554145\n",
      " 0.34217687 0.35881228 0.3754477  0.39208311 0.40871853 0.42535395\n",
      " 0.44198936 0.45862478 0.4752602 ]\n"
     ]
    }
   ],
   "source": [
    "# Below is used to calculate areas of annuli \n",
    "# Skip to the next cell for log scaling\n",
    "area_annulus = np.array([])\n",
    "# Calculates the area of annulus (= pi*(R^2-r^2))\n",
    "a = np.array([])\n",
    "\n",
    "# NEW\n",
    "for i in range(0, bins):\n",
    "# in case of Kpc, radius would be 100, 200, 300,..., 1500 kpc\n",
    "    R = hist_UDGs[1][i+1] # R = outer radius\n",
    "    r = hist_UDGs[1][i] # r = inner radius \n",
    "    # calculate area of annulus and convert to Mpc^-2\n",
    "    area = np.pi*(R**2 - r**2) \n",
    "    area_annulus = np.append(area_annulus, area)\n",
    "    a = np.append(a, (hist_UDGs[1][i] + hist_UDGs[1][i+1])/2.)\n",
    "       \n",
    "print(area_annulus)"
   ]
  },
  {
   "cell_type": "code",
   "execution_count": 77,
   "metadata": {},
   "outputs": [
    {
     "name": "stdout",
     "output_type": "stream",
     "text": [
      "[233.97629107562054+/-73.9897998277489\n",
      " 151.57948517885862+/-50.52649505961955\n",
      " 210.49804929840255+/-52.62451232460064\n",
      " 259.05163709385556+/-52.87869399271579\n",
      " 274.52155044590216+/-50.12054856683767\n",
      " 262.0785360125222+/-45.6220172253608\n",
      " 259.55464395535785+/-42.67052061666341\n",
      " 238.7125302021563+/-38.72428589111387\n",
      " 238.8770009913935+/-36.85952148186997\n",
      " 207.83742539544883+/-32.86198236374701\n",
      " 172.17175039400453+/-28.69529173233409\n",
      " 199.35413537788853+/-29.717959886710297\n",
      " 173.29280023164748+/-26.739659600054782\n",
      " 231.66042468290075+/-29.907232225740408\n",
      " 221.3070025289661+/-28.335458111110338\n",
      " 225.81811593278658+/-27.796288580310517\n",
      " 233.08058868572925+/-27.468810803771934\n",
      " 178.16471650879998+/-23.39417338623425\n",
      " 233.7972203606735+/-26.139323883848192\n",
      " 222.9578085700297+/-24.92744080384858\n",
      " 151.81874951892067+/-20.108884614696347\n",
      " 224.4422083839085+/-23.925619803942247\n",
      " 200.6270670695181+/-22.155553188407474\n",
      " 216.29045819142485+/-22.549839077960584\n",
      " 187.78732472229734+/-20.612336733586652\n",
      " 137.36719618396992+/-17.30663997147644\n",
      " 138.87129756049578+/-17.093875070956]\n"
     ]
    }
   ],
   "source": [
    "### Calculates density of UDGs ###\n",
    "UDGs_hist = np.array([])\n",
    "density_red = np.array([])\n",
    "density_blue = np.array([])\n",
    "\n",
    "for i in range(0,bins):\n",
    "    density_UDGs = all_err[i]/area_annulus[i]\n",
    "    density_r = red_err[i]/area_annulus[i]\n",
    "    density_b = blue_err[i]/area_annulus[i]\n",
    "    \n",
    "# Appends density of UDGs to existing arrays     \n",
    "    UDGs_hist = np.append(UDGs_hist, density_UDGs)\n",
    "    density_red = np.append(density_red, density_r)\n",
    "    density_blue = np.append(density_blue, density_b)\n",
    "\n",
    "print(UDGs_hist)"
   ]
  },
  {
   "cell_type": "code",
   "execution_count": 78,
   "metadata": {},
   "outputs": [],
   "source": [
    "# ---Normalize the densities by diving by the length-- #\n",
    "x_prime = a\n",
    "y_prime = unp.log10(UDGs_hist/len_udg)\n",
    "y_r = unp.log10(density_red/len_udg_red)\n",
    "y_b = unp.log10(density_blue/len_udg_blue)\n",
    "y_prime_lin = (UDGs_hist/len_udg)\n",
    "y_r_lin = (density_red/len_udg_red)\n",
    "y_b_lin = (density_blue/len_udg_blue)\n"
   ]
  },
  {
   "cell_type": "code",
   "execution_count": 79,
   "metadata": {},
   "outputs": [],
   "source": [
    "# Creates separate arrays for values and uncertainties for the plotting\n",
    "y_prime_val, y_prime_err = [],[]\n",
    "y_r_val, y_r_err = [], []\n",
    "y_b_val, y_b_err = [], []\n",
    "y_prime_lin_val, y_prime_lin_err = [], []\n",
    "y_r_lin_val, y_r_lin_err = [], []\n",
    "y_b_lin_val, y_b_lin_err = [], []\n",
    "for i in range(len(y_prime)):\n",
    "# Separates y_prime_lin\n",
    "    y_prime_val.append(y_prime[i].n) # Value\n",
    "    y_prime_err.append(y_prime[i].s) # Uncertainty\n",
    "# Separates y_r \n",
    "    y_r_val.append(y_r[i].n)\n",
    "    y_r_err.append(y_r[i].s) \n",
    "# Separates y_b\n",
    "    y_b_val.append(y_b[i].n)\n",
    "    y_b_err.append(y_b[i].s)\n",
    "# Separates y_prime_lin\n",
    "    y_prime_lin_val.append(y_prime_lin[i].n)\n",
    "    y_prime_lin_err.append(y_prime_lin[i].s)\n",
    "# Separates y_r_lin\n",
    "    y_r_lin_val.append(y_r_lin[i].n)\n",
    "    y_r_lin_err.append(y_r_lin[i].s)\n",
    "# Separates y_b_lin\n",
    "    y_b_lin_val.append(y_b_lin[i].n)\n",
    "    y_b_lin_err.append(y_b_lin[i].s)"
   ]
  },
  {
   "cell_type": "code",
   "execution_count": 80,
   "metadata": {},
   "outputs": [],
   "source": [
    "\n",
    "def power_all(x, a, k, b):\n",
    "    return a*(x**k) + b\n",
    "def power_red(x, a, k, b):\n",
    "    return a*(x**k) + b\n",
    "def power_blue(x, a, k, b):\n",
    "    return a*(x**k) + b\n",
    "\n",
    "all_back  =  0.14\n",
    "red_back  =  0.14\n",
    "blue_back =  0.14\n",
    "def power_all_fixed(x, a, k):\n",
    "    return a*(x**k) + all_back\n",
    "def power_red_fixed(x, a, k):\n",
    "    return a*(x**k) + red_back\n",
    "def power_blue_fixed(x, a, k):\n",
    "    return a*(x**k) + blue_back"
   ]
  },
  {
   "cell_type": "code",
   "execution_count": 91,
   "metadata": {},
   "outputs": [
    {
     "name": "stdout",
     "output_type": "stream",
     "text": [
      "all UDGs constants:  [ 3.33676472e-02 -1.74031717e-01  9.45181896e-15]\n",
      "a = 0.033367647217194984 +/- 0.24271061685318596 \n",
      "k = -0.17403171652717758 +/- 1.1622413657903439 \n",
      "b = 9.451818956041244e-15 +/- 0.24215047871874884\n",
      "red UDGs constants:  [ 3.24278734e-02 -1.98930249e-01  1.69001739e-13]\n",
      "a = 0.032427873441295794 +/- 0.2130098030614459 \n",
      "k = -0.1989302487749069 +/- 1.1875515138371704 \n",
      "b = 1.6900173916321503e-13 +/- 0.21239714514944655\n",
      "blue UDGs constants:  [ 3.51672979e-02 -4.15624042e-02  1.60775477e-10]\n",
      "a = 0.0351672978842551 +/- 6.050584797117263 \n",
      "k = -0.04156240424163334 +/- 6.993933480981416 \n",
      "b = 1.6077547658086596e-10 +/- 6.049651794668148\n"
     ]
    },
    {
     "data": {
      "image/png": "[encoded data removed]",
      "text/plain": [
       "<Figure size 432x288 with 1 Axes>"
      ]
     },
     "metadata": {
      "needs_background": "light"
     },
     "output_type": "display_data"
    }
   ],
   "source": [
    "fig, ax = plt.subplots()\n",
    "plt.title('power law fit of actual UDGs, random sample')\n",
    "plt.xlabel('Radius [Mpc])')\n",
    "plt.ylabel('mean density[pairs/Mpc^2/UDG]')\n",
    "#plt.xlim(0,6.0)\n",
    "#plt.ylim(0.2,1.6)\n",
    "\n",
    "arr1 = plt.errorbar(x_prime, y_prime_lin_val, yerr=y_prime_lin_err, label='all UDGs', color='g',fmt='o')\n",
    "popt_power_all, pcov_power_all = scipy.optimize.curve_fit(power_all, x_prime, y_prime_lin_val, sigma=y_prime_lin_err, p0=[1,-1.0,0.5], bounds=[(-np.inf,-np.inf,0), (np.inf,np.inf,np.inf)])\n",
    "\n",
    "plt.plot(x_prime, power_all(x_prime, *popt_power_all), color='g',linestyle='dashed')\n",
    "print('all UDGs constants: ', popt_power_all)\n",
    "print(\"a =\", popt_power_all[0], \"+/-\", pcov_power_all[0,0]**0.5, \"\\nk =\", popt_power_all[1], \"+/-\", pcov_power_all[1,1]**0.5, \"\\nb =\", popt_power_all[2], \"+/-\", pcov_power_all[2,2]**0.5)\n",
    "\n",
    "arr2 = plt.errorbar(x_prime, y_r_lin_val, yerr=y_r_lin_err, label='red', color='r',fmt='o')\n",
    "popt_power_red, pcov_power_red = scipy.optimize.curve_fit(power_all, x_prime, y_r_lin_val, sigma=y_r_lin_err, p0=[1,-1.0,0.5], bounds=[(-np.inf,-np.inf,0), (np.inf,np.inf,np.inf)],maxfev=1000000)\n",
    "\n",
    "plt.plot(x_prime, power_red(x_prime, *popt_power_red), color='r',linestyle='dashed')\n",
    "print('red UDGs constants: ', popt_power_red)\n",
    "print(\"a =\", popt_power_red[0], \"+/-\", pcov_power_red[0,0]**0.5, \"\\nk =\", popt_power_red[1], \"+/-\", pcov_power_red[1,1]**0.5, \"\\nb =\", popt_power_red[2], \"+/-\", pcov_power_red[2,2]**0.5)\n",
    "\n",
    "arr3 = plt.errorbar(x_prime, y_b_lin_val, yerr=y_b_lin_err, label='blue', color='b',fmt='o')\n",
    "popt_power_blue, pcov_power_blue = scipy.optimize.curve_fit(power_all, x_prime, y_b_lin_val, sigma=y_b_lin_err, p0=[1,-1.0,0.5], bounds=[(-np.inf,-np.inf,0), (np.inf,np.inf,np.inf)] ,maxfev=1000000)\n",
    "plt.plot(x_prime, power_blue(x_prime, *popt_power_blue), color='b',linestyle='dashed')\n",
    "print('blue UDGs constants: ', popt_power_blue)\n",
    "print(\"a =\", popt_power_blue[0], \"+/-\", pcov_power_blue[0,0]**0.5, \"\\nk =\", popt_power_blue[1], \"+/-\", pcov_power_blue[1,1]**0.5, \"\\nb =\", popt_power_blue[2], \"+/-\", pcov_power_blue[2,2]**0.5)\n",
    "#print(x_prime)\n",
    "ax.legend()\n",
    "plt.show()"
   ]
  },
  {
   "cell_type": "code",
   "execution_count": 86,
   "metadata": {},
   "outputs": [
    {
     "name": "stdout",
     "output_type": "stream",
     "text": [
      "N1 = 0.006077362839027432 , N2 = 1.1877505998143971e-15 , N1/N2 = 5116699448501.315\n",
      "N1 * len_udg 35.00560995279801\n",
      "N1 = 0.006232669169418533 , N2 = 2.1237384887962194e-14 , N1/N2 = 293476301451.378\n",
      "N1 = 0.0048252520124839075 , N2 = 2.0203642244153855e-11 , N1/N2 = 238830798.6338526\n"
     ]
    }
   ],
   "source": [
    "# Defines power law function for fitting\n",
    "def power_no_back(x, a, k):\n",
    "    return 2*np.pi*a*(x**k)*x \n",
    "\n",
    "# Defines function for fitting for background\n",
    "def background(x, b):\n",
    "    return 2*np.pi*b*x\n",
    "\n",
    "r_out = 0.2  # units Mpc\n",
    "\n",
    "N1_all = scipy.integrate.quad(power_no_back,0,r_out,args=(popt_power_all[0], popt_power_all[1])) #integrate from o to 0.2 Mpc\n",
    "N2_all = scipy.integrate.quad(background,0,r_out,args=(popt_power_all[2]))\n",
    "print(\"N1 =\", N1_all[0], \", N2 =\", N2_all[0],  \", N1/N2 =\", N1_all[0]/N2_all[0])\n",
    "print(\"N1 * len_udg\", N1_all[0] * len_udg)\n",
    "\n",
    "N1_red = scipy.integrate.quad(power_no_back,0,r_out,args=(popt_power_red[0], popt_power_red[1]))\n",
    "N2_red = scipy.integrate.quad(background,0,r_out,args=(popt_power_red[2]))\n",
    "print(\"N1 =\", N1_red[0],\", N2 =\", N2_red[0], \", N1/N2 =\", N1_red[0]/N2_red[0])\n",
    "\n",
    "N1_blue = scipy.integrate.quad(power_no_back,0,r_out,args=(popt_power_blue[0], popt_power_blue[1]))\n",
    "N2_blue = scipy.integrate.quad(background,0,r_out,args=(popt_power_blue[2]))\n",
    "print(\"N1 =\", N1_blue[0], \", N2 =\", N2_blue[0], \", N1/N2 =\", N1_blue[0]/N2_blue[0])\n"
   ]
  },
  {
   "cell_type": "code",
   "execution_count": 87,
   "metadata": {},
   "outputs": [
    {
     "name": "stdout",
     "output_type": "stream",
     "text": [
      "all UDGs constants:  [ 3.33676472e-02 -1.74031717e-01  9.45181896e-15]\n",
      "a = 0.033367647217194984 +/- 0.24271061685318596 \n",
      "k = -0.17403171652717758 +/- 1.1622413657903439 \n",
      "b = 9.451818956041244e-15 +/- 0.24215047871874884\n",
      "red UDGs constants:  [ 3.15738215e-02 -1.42273219e-01  4.17717865e-18]\n",
      "a = 0.031573821489489604 +/- 0.3312098653406977 \n",
      "k = -0.1422732185582985 +/- 1.3595788713118495 \n",
      "b = 4.1771786515484985e-18 +/- 0.33090042551925536\n",
      "blue UDGs constants:  [ 3.51672979e-02 -4.15624042e-02  1.60775477e-10]\n",
      "a = 0.0351672978842551 +/- 6.050584797117263 \n",
      "k = -0.04156240424163334 +/- 6.993933480981416 \n",
      "b = 1.6077547658086596e-10 +/- 6.049651794668148\n"
     ]
    },
    {
     "data": {
      "image/png": "[encoded data removed]",
      "text/plain": [
       "<Figure size 432x288 with 1 Axes>"
      ]
     },
     "metadata": {
      "needs_background": "light"
     },
     "output_type": "display_data"
    }
   ],
   "source": [
    "fig, ax = plt.subplots()\n",
    "plt.title('power law fit of actual UDGs (sky subtracted)')\n",
    "plt.xlabel('log10(Radius [Mpc])')\n",
    "plt.ylabel('log10(mean density[pairs/Mpc^2/UDG])')\n",
    "\n",
    "#plt.xlim(-0.8,0.8)\n",
    "#plt.ylim(-2.2,0.5)\n",
    "\n",
    "xp_log = np.log10(x_prime)\n",
    "\n",
    "p0 = [1,-1,0.5]\n",
    "popt_power_all, pcov_power_all = scipy.optimize.curve_fit(power_all, x_prime, y_prime_lin_val, sigma=y_prime_lin_err, p0=p0, bounds=[(-np.inf,-np.inf,0), (np.inf,np.inf,np.inf)])\n",
    "plt.errorbar(xp_log,np.log(y_prime_lin_val-popt_power_all[2]), yerr=y_prime_lin_err, label='all UDGs', color='g',fmt='o')\n",
    "plt.plot(xp_log, np.log(power_all(x_prime, *popt_power_all)-popt_power_all[2]), color='g',linestyle='dashed')\n",
    "print('all UDGs constants: ', popt_power_all)\n",
    "print(\"a =\", popt_power_all[0], \"+/-\", pcov_power_all[0,0]**0.5, \"\\nk =\", popt_power_all[1], \"+/-\", pcov_power_all[1,1]**0.5, \"\\nb =\", popt_power_all[2], \"+/-\", pcov_power_all[2,2]**0.5)\n",
    "\n",
    "popt_power_red, pcov_power_red = scipy.optimize.curve_fit(power_red, x_prime, y_r_lin_val, sigma=y_r_lin_val ,p0=p0,bounds=[(-np.inf,-np.inf,0), (np.inf,np.inf,np.inf)])\n",
    "plt.errorbar(xp_log, np.log(y_r_lin_val-popt_power_red[2]), yerr=y_r_lin_err,label='red UDGs', color='r', fmt='o')\n",
    "plt.plot(xp_log, np.log(power_red(x_prime, *popt_power_red)-popt_power_red[2]), color='r',linestyle='dashed')\n",
    "print('red UDGs constants: ', popt_power_red)\n",
    "print(\"a =\", popt_power_red[0], \"+/-\", pcov_power_red[0,0]**0.5, \"\\nk =\", popt_power_red[1], \"+/-\", pcov_power_red[1,1]**0.5, \"\\nb =\", popt_power_red[2], \"+/-\", pcov_power_red[2,2]**0.5)\n",
    "\n",
    "popt_power_blue, pcov_power_blue = scipy.optimize.curve_fit(power_blue, x_prime, y_b_lin_val, sigma=y_b_lin_err, p0=p0, bounds=[(-np.inf,-np.inf,0), (np.inf,np.inf,np.inf)],maxfev=1000000)\n",
    "plt.errorbar(xp_log, np.log(y_b_lin_val-popt_power_blue[2]), yerr=y_b_lin_err ,label='blue UDGs', color='b',fmt='o')\n",
    "plt.plot(xp_log, np.log(power_blue(x_prime, *popt_power_blue)-popt_power_blue[2]), color='b',linestyle='dashed')\n",
    "print('blue UDGs constants: ', popt_power_blue)\n",
    "print(\"a =\", popt_power_blue[0], \"+/-\", pcov_power_blue[0,0]**0.5, \"\\nk =\", popt_power_blue[1], \"+/-\", pcov_power_blue[1,1]**0.5, \"\\nb =\", popt_power_blue[2], \"+/-\", pcov_power_blue[2,2]**0.5)\n",
    "\n",
    "ax.legend()\n",
    "#fname = fname + '.pdf'\n",
    "#plt.savefig(fname)\n",
    "plt.show()\n",
    "\n"
   ]
  },
  {
   "cell_type": "code",
   "execution_count": 89,
   "metadata": {},
   "outputs": [
    {
     "name": "stdout",
     "output_type": "stream",
     "text": [
      "all UDGs constants:  [-0.10654775  0.06960859]\n",
      "a = -0.10654775211358303 +/- 0.0011593377368733597 \n",
      "k = 0.06960858819478825 +/- 0.02532896417994638\n",
      "red UDGs constants:  [-0.10847818  0.05048071]\n",
      "a = -0.10847817737756343 +/- 0.0014707883057558618 \n",
      "k = 0.050480710441597174 +/- 0.021045015817505956\n",
      "blue UDGs constants:  [-0.10485491  0.01841134]\n",
      "a = -0.10485490675021183 +/- 0.0019195486126596987 \n",
      "k = 0.01841134498955321 +/- 0.03671342434590905\n"
     ]
    },
    {
     "name": "stderr",
     "output_type": "stream",
     "text": [
      "<ipython-input-89-5397eb14b66f>:15: RuntimeWarning: invalid value encountered in log\n",
      "  plt.errorbar(xp_log,np.log(newy), yerr=y_prime_lin_err, label='all UDGs', color='g',fmt='o')\n",
      "/data0/sw/anaconda3/lib/python3.8/site-packages/numpy/core/_asarray.py:102: UserWarning: Warning: converting a masked element to nan.\n",
      "  return array(a, dtype, copy=False, order=order)\n",
      "<ipython-input-89-5397eb14b66f>:16: RuntimeWarning: invalid value encountered in log\n",
      "  plt.plot(xp_log, np.log(power_all_fixed(x_prime, *popt_power_all)-all_back), color='g',linestyle='dashed')\n",
      "<ipython-input-89-5397eb14b66f>:22: RuntimeWarning: invalid value encountered in log\n",
      "  plt.errorbar(xp_log, np.log(newy), yerr=y_r_lin_err,label='red UDGs', color='r', fmt='o')\n",
      "/data0/sw/anaconda3/lib/python3.8/site-packages/numpy/core/_asarray.py:102: UserWarning: Warning: converting a masked element to nan.\n",
      "  return array(a, dtype, copy=False, order=order)\n",
      "<ipython-input-89-5397eb14b66f>:23: RuntimeWarning: invalid value encountered in log\n",
      "  plt.plot(xp_log, np.log(power_red_fixed(x_prime, *popt_power_red)-red_back), color='r',linestyle='dashed')\n",
      "<ipython-input-89-5397eb14b66f>:29: RuntimeWarning: invalid value encountered in log\n",
      "  plt.errorbar(xp_log, np.log(newy), yerr=y_b_lin_err ,label='blue UDGs', color='b',fmt='o')\n",
      "/data0/sw/anaconda3/lib/python3.8/site-packages/numpy/core/_asarray.py:102: UserWarning: Warning: converting a masked element to nan.\n",
      "  return array(a, dtype, copy=False, order=order)\n",
      "<ipython-input-89-5397eb14b66f>:30: RuntimeWarning: invalid value encountered in log\n",
      "  plt.plot(xp_log, np.log(power_blue_fixed(x_prime, *popt_power_blue)-blue_back), color='b',linestyle='dashed')\n"
     ]
    },
    {
     "data": {
      "image/png": "[encoded data removed]",
      "text/plain": [
       "<Figure size 432x288 with 1 Axes>"
      ]
     },
     "metadata": {
      "needs_background": "light"
     },
     "output_type": "display_data"
    }
   ],
   "source": [
    "ig, ax = plt.subplots()\n",
    "plt.title('power law fit of actual UDGs (sky subtracted) - fixed backgrounds')\n",
    "plt.xlabel('log10(Radius [Mpc])')\n",
    "plt.ylabel('log10(mean density[pairs/Mpc^2/UDG])')\n",
    "\n",
    "#plt.xlim(-0.8,0.8)\n",
    "#plt.ylim(-2.2,0.5)\n",
    "\n",
    "newy = []\n",
    "xp_log = np.log10(x_prime)\n",
    "\n",
    "p0 = [1,-1]\n",
    "popt_power_all, pcov_power_all = scipy.optimize.curve_fit(power_all_fixed, x_prime, y_prime_lin_val, sigma=y_prime_lin_err, p0=p0, bounds=[(-np.inf,-np.inf), (np.inf,np.inf)],maxfev=1000000)\n",
    "newy[:] = [i - all_back for i in y_prime_lin_val]\n",
    "plt.errorbar(xp_log,np.log(newy), yerr=y_prime_lin_err, label='all UDGs', color='g',fmt='o')\n",
    "plt.plot(xp_log, np.log(power_all_fixed(x_prime, *popt_power_all)-all_back), color='g',linestyle='dashed')\n",
    "print('all UDGs constants: ', popt_power_all)\n",
    "print(\"a =\", popt_power_all[0], \"+/-\", pcov_power_all[0,0]**0.5, \"\\nk =\", popt_power_all[1], \"+/-\", pcov_power_all[1,1]**0.5)\n",
    "     \n",
    "popt_power_red, pcov_power_red = scipy.optimize.curve_fit(power_red_fixed, x_prime, y_r_lin_val, sigma=y_r_lin_val ,p0=p0,bounds=[(-np.inf,-np.inf), (np.inf,np.inf)])\n",
    "newy[:] = [i - red_back for i in y_r_lin_val]\n",
    "plt.errorbar(xp_log, np.log(newy), yerr=y_r_lin_err,label='red UDGs', color='r', fmt='o')\n",
    "plt.plot(xp_log, np.log(power_red_fixed(x_prime, *popt_power_red)-red_back), color='r',linestyle='dashed')\n",
    "print('red UDGs constants: ', popt_power_red)\n",
    "print(\"a =\", popt_power_red[0], \"+/-\", pcov_power_red[0,0]**0.5, \"\\nk =\", popt_power_red[1], \"+/-\", pcov_power_red[1,1]**0.5)\n",
    "\n",
    "popt_power_blue, pcov_power_blue = scipy.optimize.curve_fit(power_blue_fixed, x_prime, y_b_lin_val, sigma=y_b_lin_err, p0=p0, bounds=[(-np.inf,-np.inf), (np.inf,np.inf)])\n",
    "newy[:] = [i - blue_back for i in y_b_lin_val]\n",
    "plt.errorbar(xp_log, np.log(newy), yerr=y_b_lin_err ,label='blue UDGs', color='b',fmt='o')\n",
    "plt.plot(xp_log, np.log(power_blue_fixed(x_prime, *popt_power_blue)-blue_back), color='b',linestyle='dashed')\n",
    "print('blue UDGs constants: ', popt_power_blue)\n",
    "print(\"a =\", popt_power_blue[0], \"+/-\", pcov_power_blue[0,0]**0.5, \"\\nk =\", popt_power_blue[1], \"+/-\", pcov_power_blue[1,1]**0.5)\n",
    "\n",
    "ax.legend()\n",
    "#fname = fname + '.pdf'\n",
    "#plt.savefig(fname)\n",
    "plt.show()\n",
    "\n"
   ]
  },
  {
   "cell_type": "code",
   "execution_count": null,
   "metadata": {},
   "outputs": [],
   "source": []
  },
  {
   "cell_type": "code",
   "execution_count": null,
   "metadata": {},
   "outputs": [],
   "source": []
  }
 ],
 "metadata": {
  "kernelspec": {
   "display_name": "Python 3",
   "language": "python",
   "name": "python3"
  },
  "language_info": {
   "codemirror_mode": {
    "name": "ipython",
    "version": 3
   },
   "file_extension": ".py",
   "mimetype": "text/x-python",
   "name": "python",
   "nbconvert_exporter": "python",
   "pygments_lexer": "ipython3",
   "version": "3.8.8"
  }
 },
 "nbformat": 4,
 "nbformat_minor": 4
}
