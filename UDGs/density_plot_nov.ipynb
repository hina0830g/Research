{
 "cells": [
  {
   "cell_type": "markdown",
   "metadata": {},
   "source": [
    "## density plot generator"
   ]
  },
  {
   "cell_type": "code",
   "execution_count": 1,
   "metadata": {},
   "outputs": [],
   "source": [
    "import numpy as np\n",
    "import matplotlib.pyplot as plt\n",
    "import pandas as pd\n",
    "import scipy\n",
    "from scipy import stats\n",
    "from scipy import integrate\n",
    "import random\n",
    "from astropy import units as u\n",
    "from astropy.coordinates import SkyCoord\n",
    "from astropy.cosmology import WMAP9 as cosmo"
   ]
  },
  {
   "cell_type": "code",
   "execution_count": 2,
   "metadata": {},
   "outputs": [
    {
     "name": "stdout",
     "output_type": "stream",
     "text": [
      "result_hina_5.0.csv\n",
      "This file contains 206208 objects\n"
     ]
    }
   ],
   "source": [
    "sz = 5.0\n",
    "#result = pd.read_csv('result_Simbad_z_modified.csv')\n",
    "\n",
    "fname = 'result_hina_' + str(sz) + '.csv'\n",
    "print(fname)\n",
    "#result = pd.read_csv('hina/result_hina_15.0.csv')\n",
    "result = pd.read_csv(fname)\n",
    "gal_num = len(result)\n",
    "#result = pd.read_csv('hina/result_hina_10.0.csv')\n",
    "print('This file contains', gal_num, 'objects')\n",
    "#len_udg = 4715\n",
    "#len_udg_red = 3354\n",
    "#len_udg_blue = 1288"
   ]
  },
  {
   "cell_type": "code",
   "execution_count": 3,
   "metadata": {},
   "outputs": [
    {
     "name": "stdout",
     "output_type": "stream",
     "text": [
      "454 UDGs have Comp less than 0.2 ; 7.88 % dropped\n"
     ]
    }
   ],
   "source": [
    "comp_lim = .2 # Cut off of completion rate\n",
    "cat = pd.read_csv('CatalogDECaLSfinal.csv') # UDG catalog\n",
    "#udg_lis = np.array(cat['SMDG'])\n",
    "UDG_kept = pd.DataFrame(cat[(cat['Comp']>comp_lim)]) # > comp_lim \n",
    "UDG_dropped = cat[(cat['Comp']<comp_lim)] # < comp_lim, getting tossed\n",
    "print(len(UDG_dropped), 'UDGs have Comp less than', comp_lim, ';',np.round(len(UDG_dropped)*100/len(cat), 2),'% dropped')"
   ]
  },
  {
   "cell_type": "code",
   "execution_count": 4,
   "metadata": {},
   "outputs": [],
   "source": [
    "num_sum = 0\n",
    "for i in range(len(UDG_dropped)):\n",
    "    num_cut = len(result[(result['UDG id'] == np.array(UDG_dropped['SMDG'])[i])])\n",
    "    num_sum += num_cut\n",
    "    #print(num_cut)"
   ]
  },
  {
   "cell_type": "code",
   "execution_count": 5,
   "metadata": {},
   "outputs": [
    {
     "name": "stdout",
     "output_type": "stream",
     "text": [
      "16173 galaxies should get dropped; this is 7.84 %\n"
     ]
    }
   ],
   "source": [
    "print(num_sum, 'galaxies should get dropped; this is', np.round(num_sum*100/gal_num, 2), '%')"
   ]
  },
  {
   "cell_type": "code",
   "execution_count": 6,
   "metadata": {},
   "outputs": [],
   "source": [
    "for i in range(len(UDG_dropped)): # Drops galaxies associated with UDGs that are dropped\n",
    "    result_dropped = result[(result['UDG id'] != np.array(UDG_dropped['SMDG'])[i])]\n",
    "    result = result_dropped"
   ]
  },
  {
   "cell_type": "code",
   "execution_count": 7,
   "metadata": {},
   "outputs": [
    {
     "data": {
      "text/plain": [
       "(190035, 190035)"
      ]
     },
     "execution_count": 7,
     "metadata": {},
     "output_type": "execute_result"
    }
   ],
   "source": [
    "len(result), len(result_dropped)"
   ]
  },
  {
   "cell_type": "code",
   "execution_count": 8,
   "metadata": {},
   "outputs": [
    {
     "name": "stdout",
     "output_type": "stream",
     "text": [
      "16173 galaxies have been dropped; this is 7.84 %\n"
     ]
    }
   ],
   "source": [
    "print(gal_num-len(result), 'galaxies have been dropped; this is', np.round((gal_num-len(result))*100/gal_num, 2), '%')"
   ]
  },
  {
   "cell_type": "code",
   "execution_count": 9,
   "metadata": {},
   "outputs": [],
   "source": [
    "#comp = pd.DataFrame(cat['Comp'])"
   ]
  },
  {
   "cell_type": "code",
   "execution_count": 10,
   "metadata": {},
   "outputs": [
    {
     "name": "stderr",
     "output_type": "stream",
     "text": [
      "<ipython-input-10-46e980fc9371>:8: UserWarning: Boolean Series key will be reindexed to match DataFrame index.\n",
      "  df = UDG_kept[(cat[\"SMDG\"] == result['UDG id'].iloc[i])]\n"
     ]
    }
   ],
   "source": [
    "sep_all, sep_blue, sep_red = np.array([]),np.array([]),np.array([])\n",
    "weight_all, weight_blue, weight_red = np.array([]), np.array([]), np.array([])\n",
    "# set minimium projected separation\n",
    "min_sep = 0.1\n",
    "for i in range(0, len(result_dropped)): \n",
    "    if result['separation'].iloc[i] > min_sep and result['color'].iloc[i] < 0.9:\n",
    "        sep_all = np.append(sep_all, result['separation'].iloc[i])\n",
    "        df = UDG_kept[(cat[\"SMDG\"] == result['UDG id'].iloc[i])] \n",
    "        weight_all = np.append(weight_all, 1/df['Comp'])\n",
    "        if (result_dropped['color'].iloc[i] < 0.45):\n",
    "            sep_blue = np.append(sep_blue, result['separation'].iloc[i])\n",
    "            weight_blue = np.append(weight_blue, 1/df['Comp'])\n",
    "            #print(i, df['Comp'])\n",
    "        elif (result_dropped['color'].iloc[i] < 0.9):\n",
    "            sep_red = np.append(sep_red, result['separation'].iloc[i])\n",
    "            weight_red = np.append(weight_red, 1/df['Comp'])"
   ]
  },
  {
   "cell_type": "code",
   "execution_count": 11,
   "metadata": {},
   "outputs": [],
   "source": [
    "# Calculates the number of UDGs in the catalog\n",
    "color = np.array(UDG_kept['mag_g']) - np.array(UDG_kept['mag_r'])\n",
    "all_udg, red_udg, blue_udg = np.array([]), np.array([]), np.array([])\n",
    "for i in range(len(UDG_kept)):\n",
    "    if color[i] < .45:\n",
    "        blue_udg = np.append(blue_udg, color[i])\n",
    "    elif color[i] < .9:\n",
    "        red_udg = np.append(red_udg, color[i])\n",
    "len_udg = len(UDG_kept)\n",
    "len_udg_red = len(red_udg)\n",
    "len_udg_blue = len(blue_udg)"
   ]
  },
  {
   "cell_type": "code",
   "execution_count": 12,
   "metadata": {},
   "outputs": [
    {
     "data": {
      "text/plain": [
       "(5306, 3822, 1453)"
      ]
     },
     "execution_count": 12,
     "metadata": {},
     "output_type": "execute_result"
    }
   ],
   "source": [
    "len_udg, len_udg_red, len_udg_blue"
   ]
  },
  {
   "cell_type": "code",
   "execution_count": 13,
   "metadata": {},
   "outputs": [
    {
     "name": "stdout",
     "output_type": "stream",
     "text": [
      "135551 matches to red UDGs; 52606 matches to blue UDGs; 188157 total matches\n"
     ]
    }
   ],
   "source": [
    "print(len(sep_red),'matches to red UDGs;', len(sep_blue), 'matches to blue UDGs;',len(sep_all),'total matches')"
   ]
  },
  {
   "cell_type": "code",
   "execution_count": 14,
   "metadata": {},
   "outputs": [
    {
     "data": {
      "text/plain": [
       "(188157, 188157)"
      ]
     },
     "execution_count": 14,
     "metadata": {},
     "output_type": "execute_result"
    }
   ],
   "source": [
    "len(weight_all), len(sep_all)"
   ]
  },
  {
   "cell_type": "code",
   "execution_count": 15,
   "metadata": {},
   "outputs": [
    {
     "name": "stdout",
     "output_type": "stream",
     "text": [
      "[ 3774.25738376  5761.60048854  7309.4594593   9061.85074635\n",
      "  9400.77672465 10783.67538689 11307.42212988 11923.75562338\n",
      " 12385.95343821 13150.1813971  13698.74770305 14454.10532274\n",
      " 15323.40504551 16077.43803803 16728.78772261 17394.07514062\n",
      " 18618.37364492 19010.10459766 20626.87528779 21280.35213783\n",
      " 21903.85111515 22034.33039555 23097.24306867 23802.87687367\n",
      " 24979.91307889 25355.18641934 26428.58277795]\n"
     ]
    },
    {
     "data": {
      "text/plain": [
       "array([0.10011225, 0.3023056 , 0.50449895, 0.70669229, 0.90888564,\n",
       "       1.11107899, 1.31327233, 1.51546568, 1.71765903, 1.91985237,\n",
       "       2.12204572, 2.32423907, 2.52643242, 2.72862576, 2.93081911,\n",
       "       3.13301246, 3.3352058 , 3.53739915, 3.7395925 , 3.94178584,\n",
       "       4.14397919, 4.34617254, 4.54836588, 4.75055923, 4.95275258,\n",
       "       5.15494592, 5.35713927, 5.55933262])"
      ]
     },
     "execution_count": 15,
     "metadata": {},
     "output_type": "execute_result"
    },
    {
     "data": {
      "image/png": "[encoded data removed]",
      "text/plain": [
       "<Figure size 432x288 with 1 Axes>"
      ]
     },
     "metadata": {
      "needs_background": "light"
     },
     "output_type": "display_data"
    }
   ],
   "source": [
    "fig, ax = plt.subplots()\n",
    "\n",
    "ax.set(title='separation for all UDGs', xlabel='log(separation in Mpc)')\n",
    "\n",
    "# lets make bins be the same width regardless of which file is used (normalized to 15 bins for result_hina_1.csv\n",
    "# 5 bins for sz = 1\n",
    "bins = int(5*(sz-min_sep)/(1-min_sep))\n",
    "hist_UDGs = plt.hist(sep_all, bins=bins, density=False, weights = weight_all) # weight=\n",
    "plt.gca().set_xscale('log') # changes the scale to log\n",
    "\n",
    "plt.show\n",
    "#plt.legend;\n",
    "print(hist_UDGs[0])\n",
    "hist_UDGs[1] # edges of each bin (=x values), which later will be used as radius "
   ]
  },
  {
   "cell_type": "code",
   "execution_count": 16,
   "metadata": {},
   "outputs": [
    {
     "data": {
      "text/plain": [
       "<function matplotlib.pyplot.show(close=None, block=None)>"
      ]
     },
     "execution_count": 16,
     "metadata": {},
     "output_type": "execute_result"
    },
    {
     "data": {
      "image/png": "[encoded data removed]",
      "text/plain": [
       "<Figure size 432x288 with 1 Axes>"
      ]
     },
     "metadata": {
      "needs_background": "light"
     },
     "output_type": "display_data"
    }
   ],
   "source": [
    "# Creates the histogram of red UDGs\n",
    "#redhist = plt.hist(red, bins=15)#bins_list)\n",
    "#plt.gca().set_xscale('log')\n",
    "fig, ax = plt.subplots()\n",
    "ax.set(title='separation for red UDGs', xlabel='log(separation in Mpc)')\n",
    "\n",
    "redhist = plt.hist(sep_red, bins=bins, weights = weight_red)\n",
    "plt.gca().set_xscale('log') # changes the scale to log\n",
    "\n",
    "plt.show\n",
    "#redhist[0]"
   ]
  },
  {
   "cell_type": "code",
   "execution_count": 17,
   "metadata": {},
   "outputs": [
    {
     "data": {
      "text/plain": [
       "<function matplotlib.pyplot.show(close=None, block=None)>"
      ]
     },
     "execution_count": 17,
     "metadata": {},
     "output_type": "execute_result"
    },
    {
     "data": {
      "image/png": "[encoded data removed]",
      "text/plain": [
       "<Figure size 432x288 with 1 Axes>"
      ]
     },
     "metadata": {
      "needs_background": "light"
     },
     "output_type": "display_data"
    }
   ],
   "source": [
    "# Creates the histogram of blue UDGs\n",
    "fig, ax = plt.subplots()\n",
    "ax.set(title='separation for blue UDGs', xlabel='log(separation in Mpc)')\n",
    "\n",
    "bluehist = plt.hist(sep_blue, bins=bins, weights = weight_blue)\n",
    "plt.gca().set_xscale('log') # changes the scale to log\n",
    "\n",
    "plt.show"
   ]
  },
  {
   "cell_type": "code",
   "execution_count": 18,
   "metadata": {},
   "outputs": [],
   "source": [
    "# ---Calculate/define uncertainty below---\n",
    "# uncertainty = sqrt(n)\n",
    "import uncertainties\n",
    "from uncertainties import unumpy as unp\n",
    "# XX_err are arrays of values +/- uncertainty\n",
    "all_err = unp.uarray(hist_UDGs[0], np.sqrt(hist_UDGs[0]))\n",
    "red_err = unp.uarray(redhist[0], np.sqrt(redhist[0]))\n",
    "blue_err = unp.uarray(bluehist[0], np.sqrt(bluehist[0]))"
   ]
  },
  {
   "cell_type": "code",
   "execution_count": 19,
   "metadata": {},
   "outputs": [
    {
     "name": "stdout",
     "output_type": "stream",
     "text": [
      "[0.2556195  0.51248962 0.76935974 1.02622986 1.28309998 1.5399701\n",
      " 1.79684022 2.05371034 2.31058046 2.56745059 2.82432071 3.08119083\n",
      " 3.33806095 3.59493107 3.85180119 4.10867131 4.36554143 4.62241155\n",
      " 4.87928167 5.13615179 5.39302192 5.64989204 5.90676216 6.16363228\n",
      " 6.4205024  6.67737252 6.93424264]\n"
     ]
    }
   ],
   "source": [
    "# Below is used to calculate areas of annuli \n",
    "# Skip to the next cell for log scaling\n",
    "area_annulus = np.array([])\n",
    "# Calculates the area of annulus (= pi*(R^2-r^2))\n",
    "a = np.array([])\n",
    "\n",
    "# NEW\n",
    "for i in range(0, bins):\n",
    "# in case of Kpc, radius would be 100, 200, 300,..., 1500 kpc\n",
    "    R = hist_UDGs[1][i+1] # R = outer radius\n",
    "    r = hist_UDGs[1][i] # r = inner radius \n",
    "    # calculate area of annulus and convert to Mpc^-2\n",
    "    area = np.pi*(R**2 - r**2) \n",
    "    area_annulus = np.append(area_annulus, area)\n",
    "    a = np.append(a, (hist_UDGs[1][i] + hist_UDGs[1][i+1])/2.)\n",
    "       \n",
    "#print(area_annulus)"
   ]
  },
  {
   "cell_type": "code",
   "execution_count": 20,
   "metadata": {},
   "outputs": [],
   "source": [
    "### Calculates density of UDGs ###\n",
    "UDGs_hist = np.array([])\n",
    "density_red = np.array([])\n",
    "density_blue = np.array([])\n",
    "\n",
    "for i in range(0,bins):\n",
    "    density_UDGs = all_err[i]/area_annulus[i]\n",
    "    density_r = red_err[i]/area_annulus[i]\n",
    "    density_b = blue_err[i]/area_annulus[i]\n",
    "    \n",
    "# Appends density of UDGs to existing arrays     \n",
    "    UDGs_hist = np.append(UDGs_hist, density_UDGs)\n",
    "    density_red = np.append(density_red, density_r)\n",
    "    density_blue = np.append(density_blue, density_b)\n",
    "\n",
    "#print(UDGs_hist)"
   ]
  },
  {
   "cell_type": "code",
   "execution_count": 21,
   "metadata": {},
   "outputs": [
    {
     "name": "stdout",
     "output_type": "stream",
     "text": [
      "5306 3822 1453\n"
     ]
    }
   ],
   "source": [
    "print(len_udg, len_udg_red, len_udg_blue)"
   ]
  },
  {
   "cell_type": "code",
   "execution_count": 22,
   "metadata": {},
   "outputs": [],
   "source": [
    "# ---Normalize the densities by diving by the length-- #\n",
    "x_prime = a\n",
    "y_prime = unp.log10(UDGs_hist/len_udg)\n",
    "y_r = unp.log10(density_red/len_udg)#len_udg_red)\n",
    "y_b = unp.log10(density_blue/len_udg)#_blue)\n",
    "y_prime_lin = (UDGs_hist/len_udg)\n",
    "y_r_lin = (density_red/len_udg)#_red)\n",
    "y_b_lin = (density_blue/len_udg)#_blue)\n"
   ]
  },
  {
   "cell_type": "code",
   "execution_count": 23,
   "metadata": {},
   "outputs": [],
   "source": [
    "# Creates separate arrays for values and uncertainties for the plotting\n",
    "y_prime_val, y_prime_err = [],[]\n",
    "y_r_val, y_r_err = [], []\n",
    "y_b_val, y_b_err = [], []\n",
    "y_prime_lin_val, y_prime_lin_err = [], []\n",
    "y_r_lin_val, y_r_lin_err = [], []\n",
    "y_b_lin_val, y_b_lin_err = [], []\n",
    "for i in range(len(y_prime)):\n",
    "# Separates y_prime_lin\n",
    "    y_prime_val.append(y_prime[i].n) # Value\n",
    "    y_prime_err.append(y_prime[i].s) # Uncertainty\n",
    "# Separates y_r \n",
    "    y_r_val.append(y_r[i].n)\n",
    "    y_r_err.append(y_r[i].s) \n",
    "# Separates y_b\n",
    "    y_b_val.append(y_b[i].n)\n",
    "    y_b_err.append(y_b[i].s)\n",
    "# Separates y_prime_lin\n",
    "    y_prime_lin_val.append(y_prime_lin[i].n)\n",
    "    y_prime_lin_err.append(y_prime_lin[i].s)\n",
    "# Separates y_r_lin\n",
    "    y_r_lin_val.append(y_r_lin[i].n)\n",
    "    y_r_lin_err.append(y_r_lin[i].s)\n",
    "# Separates y_b_lin\n",
    "    y_b_lin_val.append(y_b_lin[i].n)\n",
    "    y_b_lin_err.append(y_b_lin[i].s)"
   ]
  },
  {
   "cell_type": "code",
   "execution_count": 24,
   "metadata": {},
   "outputs": [],
   "source": [
    "\n",
    "def power_all(x, a, k, b):\n",
    "    return a*(x**k) + b\n",
    "def power_red(x, a, k, b):\n",
    "    return a*(x**k) + b\n",
    "def power_blue(x, a, k, b):\n",
    "    return a*(x**k) + b\n",
    "\n",
    "all_bac  =  0.14\n",
    "red_back  =  0.14\n",
    "blue_back =  0.14\n",
    "def power_all_fixed(x, a, k):\n",
    "    return a*(x**k) + all_back\n",
    "def power_red_fixed(x, a, k):\n",
    "    return a*(x**k) + red_back\n",
    "def power_blue_fixed(x, a, k):\n",
    "    return a*(x**k) + blue_back"
   ]
  },
  {
   "cell_type": "code",
   "execution_count": 25,
   "metadata": {},
   "outputs": [
    {
     "name": "stdout",
     "output_type": "stream",
     "text": [
      "all UDGs constants:  [ 0.94891562 -0.66296586  0.39169516]\n",
      "a = 0.9489156163031328 +/- 0.06509440054387236 \n",
      "k = -0.6629658645301296 +/- 0.05581142436460724 \n",
      "b = 0.39169515654629183 +/- 0.05419609805804206\n",
      "red UDGs constants:  [ 0.78338158 -0.70527589  0.26757653]\n",
      "a = 0.7833815763901734 +/- 0.05748286214283348 \n",
      "k = -0.7052758913234441 +/- 0.06272136698939618 \n",
      "b = 0.26757652581168323 +/- 0.04621144914166722\n",
      "blue UDGs constants:  [ 0.18148597 -0.41534348  0.1058318 ]\n",
      "a = 0.18148596549187604 +/- 0.025181984194095695 \n",
      "k = -0.41534347639474156 +/- 0.07233410577012875 \n",
      "b = 0.10583180437307056 +/- 0.024193427868406964\n",
      "[0.20120893 0.40340227 0.60559562 0.80778897 1.00998231 1.21217566\n",
      " 1.41436901 1.61656235 1.8187557  2.02094905 2.2231424  2.42533574\n",
      " 2.62752909 2.82972244 3.03191578 3.23410913 3.43630248 3.63849582\n",
      " 3.84068917 4.04288252 4.24507586 4.44726921 4.64946256 4.8516559\n",
      " 5.05384925 5.2560426  5.45823594]\n"
     ]
    },
    {
     "data": {
      "image/png": "[encoded data removed]",
      "text/plain": [
       "<Figure size 432x288 with 1 Axes>"
      ]
     },
     "metadata": {
      "needs_background": "light"
     },
     "output_type": "display_data"
    },
    {
     "data": {
      "text/plain": [
       "<matplotlib.legend.Legend at 0x7f4f0b6a32b0>"
      ]
     },
     "execution_count": 25,
     "metadata": {},
     "output_type": "execute_result"
    }
   ],
   "source": [
    "fig, ax = plt.subplots()\n",
    "plt.title('power law fit of actual UDGs')\n",
    "plt.xlabel('Radius [Mpc])')\n",
    "plt.ylabel('mean density[pairs/Mpc^2/UDG]')\n",
    "plt.xlim(0,6.)\n",
    "#plt.ylim(0.5,4.)\n",
    "#plt.ylim(0.2,1.6)\n",
    "\n",
    "arr1 = plt.errorbar(x_prime, y_prime_lin_val, yerr=y_prime_lin_err, label='all UDGs', color='g',fmt='o')\n",
    "popt_power_all, pcov_power_all = scipy.optimize.curve_fit(power_all, x_prime, y_prime_lin_val, sigma=y_prime_lin_err, p0=[1,-1.0,0.5], bounds=[(-np.inf,-np.inf,0), (np.inf,np.inf,np.inf)])\n",
    "\n",
    "plt.plot(x_prime, power_all(x_prime, *popt_power_all), color='g',linestyle='dashed')\n",
    "print('all UDGs constants: ', popt_power_all)\n",
    "print(\"a =\", popt_power_all[0], \"+/-\", pcov_power_all[0,0]**0.5, \"\\nk =\", popt_power_all[1], \"+/-\", pcov_power_all[1,1]**0.5, \"\\nb =\", popt_power_all[2], \"+/-\", pcov_power_all[2,2]**0.5)\n",
    "\n",
    "arr2 = plt.errorbar(x_prime, y_r_lin_val, yerr=y_r_lin_err, label='red', color='r',fmt='o')\n",
    "popt_power_red, pcov_power_red = scipy.optimize.curve_fit(power_all, x_prime, y_r_lin_val, sigma=y_r_lin_err, p0=[1,-1.0,0.5], bounds=[(-np.inf,-np.inf,0), (np.inf,np.inf,np.inf)],maxfev=1000000)\n",
    "\n",
    "plt.plot(x_prime, power_red(x_prime, *popt_power_red), color='r',linestyle='dashed')\n",
    "print('red UDGs constants: ', popt_power_red)\n",
    "print(\"a =\", popt_power_red[0], \"+/-\", pcov_power_red[0,0]**0.5, \"\\nk =\", popt_power_red[1], \"+/-\", pcov_power_red[1,1]**0.5, \"\\nb =\", popt_power_red[2], \"+/-\", pcov_power_red[2,2]**0.5)\n",
    "\n",
    "arr3 = plt.errorbar(x_prime, y_b_lin_val, yerr=y_b_lin_err, label='blue', color='b',fmt='o')\n",
    "popt_power_blue, pcov_power_blue = scipy.optimize.curve_fit(power_all, x_prime, y_b_lin_val, sigma=y_b_lin_err, p0=[1,-1.0,0.5], bounds=[(0.0,-np.inf,0), (1.,np.inf,np.inf)], maxfev=1000000)\n",
    "#popt_power_blue, pcov_power_blue = scipy.optimize.curve_fit(power_all, x_prime, y_b_lin_val, sigma=y_b_lin_err, p0=[1,-1.0,0.5], bounds=[(-np.inf,-np.inf,0), (np.inf,np.inf,np.inf)], maxfev=1000000)\n",
    "plt.plot(x_prime, power_blue(x_prime, *popt_power_blue), color='b',linestyle='dashed')\n",
    "print('blue UDGs constants: ', popt_power_blue)\n",
    "print(\"a =\", popt_power_blue[0], \"+/-\", pcov_power_blue[0,0]**0.5, \"\\nk =\", popt_power_blue[1], \"+/-\", pcov_power_blue[1,1]**0.5, \"\\nb =\", popt_power_blue[2], \"+/-\", pcov_power_blue[2,2]**0.5)\n",
    "print(x_prime)\n",
    "plt.show()\n",
    "ax.legend()"
   ]
  },
  {
   "cell_type": "code",
   "execution_count": 26,
   "metadata": {},
   "outputs": [],
   "source": [
    "z = (0.02001385 + 0.013342564)/2 # avg redshift\n",
    "deg = np.sqrt(15000)*u.deg\n",
    "Area_survey = (deg/u.deg/206265*3600*cosmo.angular_diameter_distance(z)/u.Mpc)**2 # deg^2 to Mpc^2\n",
    "normal_length = Area_survey * popt_power_all[2]"
   ]
  },
  {
   "cell_type": "code",
   "execution_count": 27,
   "metadata": {},
   "outputs": [
    {
     "name": "stdout",
     "output_type": "stream",
     "text": [
      "(0.31323826085186024, 3.4776432939127604e-15)\n",
      "N1 = 0.31323826085186024 , N2 = 0.03691639878757604 , N1/N2 = 8.485070893677701\n",
      "0.4043897626101588\n",
      "N1 = 0.2802898544427617 , N2 = 0.025218493432891915 , N1/N2 = 11.114456745349663\n",
      "0.3618534574668363\n",
      "N1 = 0.03743889946975927 , N2 = 0.009974412574037722 , N1/N2 = 3.7534941723995385\n",
      "0.048333519755179806\n"
     ]
    }
   ],
   "source": [
    "# Defines power law function for fitting\n",
    "def power_no_back(x, a, k):\n",
    "    return 2*np.pi*a*(x**k)*x \n",
    "\n",
    "# Defines function for fitting for background\n",
    "def background(x, b):\n",
    "    return 2*np.pi*b*x\n",
    "\n",
    "r_out = 0.2  # units Mpc\n",
    "\n",
    "N1_all = scipy.integrate.quad(power_no_back,min_sep,r_out,args=(popt_power_all[0], popt_power_all[1])) #integrate from o to 0.2 Mpc\n",
    "N2_all = scipy.integrate.quad(background,min_sep,r_out,args=(popt_power_all[2]))\n",
    "print(N1_all)\n",
    "print(\"N1 =\", N1_all[0], \", N2 =\", N2_all[0],  \", N1/N2 =\", N1_all[0]/N2_all[0])\n",
    "print(N1_all[0]*len_udg/((Area_survey) * .18))\n",
    "\n",
    "N1_red = scipy.integrate.quad(power_no_back,min_sep,r_out,args=(popt_power_red[0], popt_power_red[1]))\n",
    "N2_red = scipy.integrate.quad(background,min_sep,r_out,args=(popt_power_red[2]))\n",
    "print(\"N1 =\", N1_red[0],\", N2 =\", N2_red[0], \", N1/N2 =\", N1_red[0]/N2_red[0])\n",
    "print(N1_red[0]*len_udg/((Area_survey) * .18))\n",
    "\n",
    "N1_blue = scipy.integrate.quad(power_no_back,min_sep,r_out,args=(popt_power_blue[0], popt_power_blue[1]))\n",
    "N2_blue = scipy.integrate.quad(background,min_sep,r_out,args=(popt_power_blue[2]))\n",
    "print(\"N1 =\", N1_blue[0], \", N2 =\", N2_blue[0], \", N1/N2 =\", N1_blue[0]/N2_blue[0])\n",
    "print(N1_blue[0]*len_udg/((Area_survey) * .18))\n"
   ]
  },
  {
   "cell_type": "code",
   "execution_count": 28,
   "metadata": {},
   "outputs": [],
   "source": [
    "a = uncertainties.ufloat(popt_power_all[0], pcov_power_all[0,0]**0.5)\n",
    "k = uncertainties.ufloat(popt_power_all[1],  pcov_power_all[1,1]**0.5)\n",
    "b = uncertainties.ufloat(popt_power_all[2],  pcov_power_all[2,2]**0.5)"
   ]
  },
  {
   "cell_type": "code",
   "execution_count": 29,
   "metadata": {},
   "outputs": [
    {
     "name": "stdout",
     "output_type": "stream",
     "text": [
      "all UDGs constants:  [ 0.94891562 -0.66296586  0.39169516]\n",
      "a = 0.9489156163031328 +/- 0.06509440054387236 \n",
      "k = -0.6629658645301296 +/- 0.05581142436460724 \n",
      "b = 0.39169515654629183 +/- 0.05419609805804206\n",
      "red UDGs constants:  [ 0.87518084 -0.61313867  0.18548799]\n",
      "a = 0.8751808404792619 +/- 0.07506789499949025 \n",
      "k = -0.6131386680240162 +/- 0.05513410588696966 \n",
      "b = 0.18548798511568226 +/- 0.0617140450222693\n",
      "blue UDGs constants:  [ 0.18148597 -0.41534348  0.1058318 ]\n",
      "a = 0.18148596549187604 +/- 0.025181984194095695 \n",
      "k = -0.41534347639474156 +/- 0.07233410577012875 \n",
      "b = 0.10583180437307056 +/- 0.024193427868406964\n"
     ]
    },
    {
     "data": {
      "image/png": "[encoded data removed]",
      "text/plain": [
       "<Figure size 432x288 with 1 Axes>"
      ]
     },
     "metadata": {
      "needs_background": "light"
     },
     "output_type": "display_data"
    }
   ],
   "source": [
    "fig, ax = plt.subplots()\n",
    "plt.title('power law fit of actual UDGs (sky subtracted)')\n",
    "plt.xlabel('log10(Radius [Mpc])')\n",
    "plt.ylabel('log10(mean density[pairs/Mpc^2/UDG])')\n",
    "\n",
    "plt.xlim(-0.8,0.8)\n",
    "#plt.ylim(-1.3, 1.4)\n",
    "#plt.ylim(-2.2,0.5)\n",
    "\n",
    "xp_log = np.log10(x_prime)\n",
    "\n",
    "p0 = [1,-1,0.5]\n",
    "popt_power_all, pcov_power_all = scipy.optimize.curve_fit(power_all, x_prime, y_prime_lin_val, sigma=y_prime_lin_err, p0=p0, bounds=[(-np.inf,-np.inf,0), (np.inf,np.inf,np.inf)])\n",
    "plt.errorbar(xp_log,np.log(y_prime_lin_val-popt_power_all[2]), yerr=y_prime_lin_err, label='all UDGs', color='g',fmt='o')\n",
    "plt.plot(xp_log, np.log(power_all(x_prime, *popt_power_all)-popt_power_all[2]), color='g',linestyle='dashed')\n",
    "print('all UDGs constants: ', popt_power_all)\n",
    "print(\"a =\", popt_power_all[0], \"+/-\", pcov_power_all[0,0]**0.5, \"\\nk =\", popt_power_all[1], \"+/-\", pcov_power_all[1,1]**0.5, \"\\nb =\", popt_power_all[2], \"+/-\", pcov_power_all[2,2]**0.5)\n",
    "\n",
    "popt_power_red, pcov_power_red = scipy.optimize.curve_fit(power_red, x_prime, y_r_lin_val, sigma=y_r_lin_val ,p0=p0,bounds=[(-np.inf,-np.inf,0), (np.inf,np.inf,np.inf)])\n",
    "plt.errorbar(xp_log, np.log(y_r_lin_val-popt_power_red[2]), yerr=y_r_lin_err,label='red UDGs', color='r', fmt='o')\n",
    "plt.plot(xp_log, np.log(power_red(x_prime, *popt_power_red)-popt_power_red[2]), color='r',linestyle='dashed')\n",
    "print('red UDGs constants: ', popt_power_red)\n",
    "print(\"a =\", popt_power_red[0], \"+/-\", pcov_power_red[0,0]**0.5, \"\\nk =\", popt_power_red[1], \"+/-\", pcov_power_red[1,1]**0.5, \"\\nb =\", popt_power_red[2], \"+/-\", pcov_power_red[2,2]**0.5)\n",
    "\n",
    "popt_power_blue, pcov_power_blue = scipy.optimize.curve_fit(power_blue, x_prime, y_b_lin_val, sigma=y_b_lin_err, p0=p0, bounds=[(0,-np.inf,0), (1,np.inf,np.inf)])\n",
    "plt.errorbar(xp_log, np.log(y_b_lin_val-popt_power_blue[2]), yerr=y_b_lin_err ,label='blue UDGs', color='b',fmt='o')\n",
    "plt.plot(xp_log, np.log(power_blue(x_prime, *popt_power_blue)-popt_power_blue[2]), color='b',linestyle='dashed')\n",
    "print('blue UDGs constants: ', popt_power_blue)\n",
    "print(\"a =\", popt_power_blue[0], \"+/-\", pcov_power_blue[0,0]**0.5, \"\\nk =\", popt_power_blue[1], \"+/-\", pcov_power_blue[1,1]**0.5, \"\\nb =\", popt_power_blue[2], \"+/-\", pcov_power_blue[2,2]**0.5)\n",
    "\n",
    "ax.legend()\n",
    "#fname = fname + '.pdf'\n",
    "#plt.savefig(fname)\n",
    "plt.show()\n",
    "\n"
   ]
  },
  {
   "cell_type": "code",
   "execution_count": 30,
   "metadata": {},
   "outputs": [],
   "source": [
    "import random\n",
    "mu_a_all, sigma_a_all = popt_power_all[0], pcov_power_all[0,0]**0.5\n",
    "mu_k_all, sigma_k_all = popt_power_all[1], pcov_power_all[1,1]**0.5\n",
    "mu_a_red, sigma_a_red = popt_power_red[0], pcov_power_red[0,0]**0.5\n",
    "mu_k_red, sigma_k_red = popt_power_red[1], pcov_power_red[1,1]**0.5\n",
    "mu_a_blue, sigma_a_blue = popt_power_blue[0], pcov_power_blue[0,0]**0.5\n",
    "mu_k_blue, sigma_k_blue = popt_power_blue[1], pcov_power_blue[1,1]**0.5\n",
    "s_a_all = np.random.normal(mu_a_all, sigma_a_all, 10000)\n",
    "s_b_all = np.random.normal(mu_k_all, sigma_k_all, 10000)\n",
    "s_a_red = np.random.normal(mu_a_red, sigma_a_red, 10000)\n",
    "s_b_red = np.random.normal(mu_k_red, sigma_k_red, 10000)\n",
    "s_a_blue = np.random.normal(mu_a_blue, sigma_a_blue, 10000)\n",
    "s_b_blue = np.random.normal(mu_k_blue, sigma_k_blue, 10000)"
   ]
  },
  {
   "cell_type": "code",
   "execution_count": null,
   "metadata": {},
   "outputs": [],
   "source": [
    "z = (0.02001385 + 0.013342564)/2 # avg redshift\n",
    "deg = np.sqrt(15000)*u.deg\n",
    "Area_survey = (deg/u.deg/206265*3600*cosmo.angular_diameter_distance(z)/u.Mpc)**2 # deg^2 to Mpc^2"
   ]
  },
  {
   "cell_type": "code",
   "execution_count": 37,
   "metadata": {},
   "outputs": [],
   "source": [
    "integral_all = np.array([])\n",
    "r_out = 0.2  # units Mpc\n",
    "for i in range(0, len(s_a_all)):\n",
    "    N1_all = scipy.integrate.quad(power_no_back,min_sep,r_out,args=(s_a_all[i], s_b_all[i]))\n",
    "    N1_value = N1_all[0]*len_udg/((Area_survey) * .18)\n",
    "    integral_all = np.append(integral_all, N1_value)    "
   ]
  },
  {
   "cell_type": "code",
   "execution_count": 38,
   "metadata": {},
   "outputs": [],
   "source": [
    "integral_red = np.array([])\n",
    "for i in range(0, len(s_a_all)):\n",
    "    N1_r = scipy.integrate.quad(power_no_back,min_sep,r_out,args=(s_a_red[i], s_b_red[i]))\n",
    "    N1_red = N1_r[0]*len_udg/((Area_survey) * .18)\n",
    "    integral_red = np.append(integral_red, N1_red)\n",
    "    #print(N1_red)"
   ]
  },
  {
   "cell_type": "code",
   "execution_count": 39,
   "metadata": {},
   "outputs": [],
   "source": [
    "integral_blue = np.array([])\n",
    "for i in range(0, len(s_a_all)):\n",
    "    N1_b = scipy.integrate.quad(power_no_back,min_sep,r_out,args=(s_a_blue[i], s_b_blue[i]))\n",
    "    N1_blue = N1_b[0]*len_udg/((Area_survey) * .18)\n",
    "    integral_blue = np.append(integral_blue, N1_blue)\n",
    "    #print(N1_blue)"
   ]
  },
  {
   "cell_type": "code",
   "execution_count": 40,
   "metadata": {},
   "outputs": [
    {
     "data": {
      "text/plain": [
       "(array([9.000e+00, 2.900e+01, 1.210e+02, 3.760e+02, 6.810e+02, 1.168e+03,\n",
       "        1.495e+03, 1.600e+03, 1.448e+03, 1.213e+03, 8.290e+02, 5.010e+02,\n",
       "        2.950e+02, 1.280e+02, 6.300e+01, 2.500e+01, 1.300e+01, 3.000e+00,\n",
       "        2.000e+00, 1.000e+00]),\n",
       " array([0.24464521, 0.2653805 , 0.28611579, 0.30685108, 0.32758637,\n",
       "        0.34832166, 0.36905695, 0.38979224, 0.41052753, 0.43126282,\n",
       "        0.45199811, 0.4727334 , 0.49346869, 0.51420398, 0.53493927,\n",
       "        0.55567456, 0.57640985, 0.59714514, 0.61788043, 0.63861572,\n",
       "        0.65935101]),\n",
       " <BarContainer object of 20 artists>)"
      ]
     },
     "execution_count": 40,
     "metadata": {},
     "output_type": "execute_result"
    },
    {
     "data": {
      "image/png": "[encoded data removed]",
      "text/plain": [
       "<Figure size 432x288 with 1 Axes>"
      ]
     },
     "metadata": {
      "needs_background": "light"
     },
     "output_type": "display_data"
    }
   ],
   "source": [
    "fig, ax = plt.subplots()\n",
    "plt.title('number of UDGs per normal 0.1<r<0.2 Mpc')\n",
    "plt.hist(integral_all.data, bins=20)"
   ]
  },
  {
   "cell_type": "code",
   "execution_count": 41,
   "metadata": {},
   "outputs": [
    {
     "data": {
      "text/plain": [
       "(array([1.700e+01, 4.000e+01, 1.370e+02, 4.010e+02, 7.160e+02, 1.100e+03,\n",
       "        1.346e+03, 1.534e+03, 1.439e+03, 1.180e+03, 8.320e+02, 5.390e+02,\n",
       "        3.620e+02, 1.870e+02, 1.000e+02, 3.900e+01, 1.400e+01, 9.000e+00,\n",
       "        7.000e+00, 1.000e+00]),\n",
       " array([0.20275158, 0.22025431, 0.23775705, 0.25525979, 0.27276253,\n",
       "        0.29026526, 0.307768  , 0.32527074, 0.34277347, 0.36027621,\n",
       "        0.37777895, 0.39528169, 0.41278442, 0.43028716, 0.4477899 ,\n",
       "        0.46529264, 0.48279537, 0.50029811, 0.51780085, 0.53530359,\n",
       "        0.55280632]),\n",
       " <BarContainer object of 20 artists>)"
      ]
     },
     "execution_count": 41,
     "metadata": {},
     "output_type": "execute_result"
    },
    {
     "data": {
      "image/png": "[encoded data removed]",
      "text/plain": [
       "<Figure size 432x288 with 1 Axes>"
      ]
     },
     "metadata": {
      "needs_background": "light"
     },
     "output_type": "display_data"
    }
   ],
   "source": [
    "fig, ax = plt.subplots()\n",
    "plt.title('number of red UDGs per normal 0.1<r<0.2 Mpc')\n",
    "plt.hist(integral_red.data, bins=20)"
   ]
  },
  {
   "cell_type": "code",
   "execution_count": 42,
   "metadata": {},
   "outputs": [
    {
     "data": {
      "text/plain": [
       "(array([   8.,   32.,  148.,  425.,  820., 1250., 1581., 1587., 1399.,\n",
       "        1054.,  724.,  434.,  281.,  132.,   65.,   36.,    8.,   12.,\n",
       "           2.,    2.]),\n",
       " array([0.01986916, 0.02364265, 0.02741615, 0.03118964, 0.03496314,\n",
       "        0.03873663, 0.04251013, 0.04628362, 0.05005712, 0.05383061,\n",
       "        0.05760411, 0.06137761, 0.0651511 , 0.0689246 , 0.07269809,\n",
       "        0.07647159, 0.08024508, 0.08401858, 0.08779207, 0.09156557,\n",
       "        0.09533906]),\n",
       " <BarContainer object of 20 artists>)"
      ]
     },
     "execution_count": 42,
     "metadata": {},
     "output_type": "execute_result"
    },
    {
     "data": {
      "image/png": "[encoded data removed]",
      "text/plain": [
       "<Figure size 432x288 with 1 Axes>"
      ]
     },
     "metadata": {
      "needs_background": "light"
     },
     "output_type": "display_data"
    }
   ],
   "source": [
    "fig, ax = plt.subplots()\n",
    "plt.title('number of blue UDGs per normal 0.1<r<0.2 Mpc')\n",
    "plt.hist(integral_blue.data, bins=20)"
   ]
  },
  {
   "cell_type": "code",
   "execution_count": 45,
   "metadata": {},
   "outputs": [
    {
     "ename": "NameError",
     "evalue": "name 'all_back' is not defined",
     "output_type": "error",
     "traceback": [
      "\u001b[0;31m---------------------------------------------------------------------------\u001b[0m",
      "\u001b[0;31mNameError\u001b[0m                                 Traceback (most recent call last)",
      "\u001b[0;32m<ipython-input-45-fd8826aab600>\u001b[0m in \u001b[0;36m<module>\u001b[0;34m\u001b[0m\n\u001b[1;32m     11\u001b[0m \u001b[0;34m\u001b[0m\u001b[0m\n\u001b[1;32m     12\u001b[0m \u001b[0mp0\u001b[0m \u001b[0;34m=\u001b[0m \u001b[0;34m[\u001b[0m\u001b[0;36m1\u001b[0m\u001b[0;34m,\u001b[0m\u001b[0;34m-\u001b[0m\u001b[0;36m1\u001b[0m\u001b[0;34m]\u001b[0m\u001b[0;34m\u001b[0m\u001b[0;34m\u001b[0m\u001b[0m\n\u001b[0;32m---> 13\u001b[0;31m \u001b[0mpopt_power_all\u001b[0m\u001b[0;34m,\u001b[0m \u001b[0mpcov_power_all\u001b[0m \u001b[0;34m=\u001b[0m \u001b[0mscipy\u001b[0m\u001b[0;34m.\u001b[0m\u001b[0moptimize\u001b[0m\u001b[0;34m.\u001b[0m\u001b[0mcurve_fit\u001b[0m\u001b[0;34m(\u001b[0m\u001b[0mpower_all_fixed\u001b[0m\u001b[0;34m,\u001b[0m \u001b[0mx_prime\u001b[0m\u001b[0;34m,\u001b[0m \u001b[0my_prime_lin_val\u001b[0m\u001b[0;34m,\u001b[0m \u001b[0msigma\u001b[0m\u001b[0;34m=\u001b[0m\u001b[0my_prime_lin_err\u001b[0m\u001b[0;34m,\u001b[0m \u001b[0mp0\u001b[0m\u001b[0;34m=\u001b[0m\u001b[0mp0\u001b[0m\u001b[0;34m,\u001b[0m \u001b[0mbounds\u001b[0m\u001b[0;34m=\u001b[0m\u001b[0;34m[\u001b[0m\u001b[0;34m(\u001b[0m\u001b[0;34m-\u001b[0m\u001b[0mnp\u001b[0m\u001b[0;34m.\u001b[0m\u001b[0minf\u001b[0m\u001b[0;34m,\u001b[0m\u001b[0;34m-\u001b[0m\u001b[0mnp\u001b[0m\u001b[0;34m.\u001b[0m\u001b[0minf\u001b[0m\u001b[0;34m)\u001b[0m\u001b[0;34m,\u001b[0m \u001b[0;34m(\u001b[0m\u001b[0mnp\u001b[0m\u001b[0;34m.\u001b[0m\u001b[0minf\u001b[0m\u001b[0;34m,\u001b[0m\u001b[0mnp\u001b[0m\u001b[0;34m.\u001b[0m\u001b[0minf\u001b[0m\u001b[0;34m)\u001b[0m\u001b[0;34m]\u001b[0m\u001b[0;34m)\u001b[0m\u001b[0;34m\u001b[0m\u001b[0;34m\u001b[0m\u001b[0m\n\u001b[0m\u001b[1;32m     14\u001b[0m \u001b[0mnewy\u001b[0m\u001b[0;34m[\u001b[0m\u001b[0;34m:\u001b[0m\u001b[0;34m]\u001b[0m \u001b[0;34m=\u001b[0m \u001b[0;34m[\u001b[0m\u001b[0mi\u001b[0m \u001b[0;34m-\u001b[0m \u001b[0mall_back\u001b[0m \u001b[0;32mfor\u001b[0m \u001b[0mi\u001b[0m \u001b[0;32min\u001b[0m \u001b[0my_prime_lin_val\u001b[0m\u001b[0;34m]\u001b[0m\u001b[0;34m\u001b[0m\u001b[0;34m\u001b[0m\u001b[0m\n\u001b[1;32m     15\u001b[0m \u001b[0mplt\u001b[0m\u001b[0;34m.\u001b[0m\u001b[0merrorbar\u001b[0m\u001b[0;34m(\u001b[0m\u001b[0mxp_log\u001b[0m\u001b[0;34m,\u001b[0m\u001b[0mnp\u001b[0m\u001b[0;34m.\u001b[0m\u001b[0mlog\u001b[0m\u001b[0;34m(\u001b[0m\u001b[0mnewy\u001b[0m\u001b[0;34m)\u001b[0m\u001b[0;34m,\u001b[0m \u001b[0myerr\u001b[0m\u001b[0;34m=\u001b[0m\u001b[0my_prime_lin_err\u001b[0m\u001b[0;34m,\u001b[0m \u001b[0mlabel\u001b[0m\u001b[0;34m=\u001b[0m\u001b[0;34m'all UDGs'\u001b[0m\u001b[0;34m,\u001b[0m \u001b[0mcolor\u001b[0m\u001b[0;34m=\u001b[0m\u001b[0;34m'g'\u001b[0m\u001b[0;34m,\u001b[0m\u001b[0mfmt\u001b[0m\u001b[0;34m=\u001b[0m\u001b[0;34m'o'\u001b[0m\u001b[0;34m)\u001b[0m\u001b[0;34m\u001b[0m\u001b[0;34m\u001b[0m\u001b[0m\n",
      "\u001b[0;32m/data0/sw/anaconda3/lib/python3.8/site-packages/scipy/optimize/minpack.py\u001b[0m in \u001b[0;36mcurve_fit\u001b[0;34m(f, xdata, ydata, p0, sigma, absolute_sigma, check_finite, bounds, method, jac, **kwargs)\u001b[0m\n\u001b[1;32m    787\u001b[0m         \u001b[0;31m# Remove full_output from kwargs, otherwise we're passing it in twice.\u001b[0m\u001b[0;34m\u001b[0m\u001b[0;34m\u001b[0m\u001b[0;34m\u001b[0m\u001b[0m\n\u001b[1;32m    788\u001b[0m         \u001b[0mreturn_full\u001b[0m \u001b[0;34m=\u001b[0m \u001b[0mkwargs\u001b[0m\u001b[0;34m.\u001b[0m\u001b[0mpop\u001b[0m\u001b[0;34m(\u001b[0m\u001b[0;34m'full_output'\u001b[0m\u001b[0;34m,\u001b[0m \u001b[0;32mFalse\u001b[0m\u001b[0;34m)\u001b[0m\u001b[0;34m\u001b[0m\u001b[0;34m\u001b[0m\u001b[0m\n\u001b[0;32m--> 789\u001b[0;31m         \u001b[0mres\u001b[0m \u001b[0;34m=\u001b[0m \u001b[0mleastsq\u001b[0m\u001b[0;34m(\u001b[0m\u001b[0mfunc\u001b[0m\u001b[0;34m,\u001b[0m \u001b[0mp0\u001b[0m\u001b[0;34m,\u001b[0m \u001b[0mDfun\u001b[0m\u001b[0;34m=\u001b[0m\u001b[0mjac\u001b[0m\u001b[0;34m,\u001b[0m \u001b[0mfull_output\u001b[0m\u001b[0;34m=\u001b[0m\u001b[0;36m1\u001b[0m\u001b[0;34m,\u001b[0m \u001b[0;34m**\u001b[0m\u001b[0mkwargs\u001b[0m\u001b[0;34m)\u001b[0m\u001b[0;34m\u001b[0m\u001b[0;34m\u001b[0m\u001b[0m\n\u001b[0m\u001b[1;32m    790\u001b[0m         \u001b[0mpopt\u001b[0m\u001b[0;34m,\u001b[0m \u001b[0mpcov\u001b[0m\u001b[0;34m,\u001b[0m \u001b[0minfodict\u001b[0m\u001b[0;34m,\u001b[0m \u001b[0merrmsg\u001b[0m\u001b[0;34m,\u001b[0m \u001b[0mier\u001b[0m \u001b[0;34m=\u001b[0m \u001b[0mres\u001b[0m\u001b[0;34m\u001b[0m\u001b[0;34m\u001b[0m\u001b[0m\n\u001b[1;32m    791\u001b[0m         \u001b[0mysize\u001b[0m \u001b[0;34m=\u001b[0m \u001b[0mlen\u001b[0m\u001b[0;34m(\u001b[0m\u001b[0minfodict\u001b[0m\u001b[0;34m[\u001b[0m\u001b[0;34m'fvec'\u001b[0m\u001b[0;34m]\u001b[0m\u001b[0;34m)\u001b[0m\u001b[0;34m\u001b[0m\u001b[0;34m\u001b[0m\u001b[0m\n",
      "\u001b[0;32m/data0/sw/anaconda3/lib/python3.8/site-packages/scipy/optimize/minpack.py\u001b[0m in \u001b[0;36mleastsq\u001b[0;34m(func, x0, args, Dfun, full_output, col_deriv, ftol, xtol, gtol, maxfev, epsfcn, factor, diag)\u001b[0m\n\u001b[1;32m    408\u001b[0m     \u001b[0;32mif\u001b[0m \u001b[0;32mnot\u001b[0m \u001b[0misinstance\u001b[0m\u001b[0;34m(\u001b[0m\u001b[0margs\u001b[0m\u001b[0;34m,\u001b[0m \u001b[0mtuple\u001b[0m\u001b[0;34m)\u001b[0m\u001b[0;34m:\u001b[0m\u001b[0;34m\u001b[0m\u001b[0;34m\u001b[0m\u001b[0m\n\u001b[1;32m    409\u001b[0m         \u001b[0margs\u001b[0m \u001b[0;34m=\u001b[0m \u001b[0;34m(\u001b[0m\u001b[0margs\u001b[0m\u001b[0;34m,\u001b[0m\u001b[0;34m)\u001b[0m\u001b[0;34m\u001b[0m\u001b[0;34m\u001b[0m\u001b[0m\n\u001b[0;32m--> 410\u001b[0;31m     \u001b[0mshape\u001b[0m\u001b[0;34m,\u001b[0m \u001b[0mdtype\u001b[0m \u001b[0;34m=\u001b[0m \u001b[0m_check_func\u001b[0m\u001b[0;34m(\u001b[0m\u001b[0;34m'leastsq'\u001b[0m\u001b[0;34m,\u001b[0m \u001b[0;34m'func'\u001b[0m\u001b[0;34m,\u001b[0m \u001b[0mfunc\u001b[0m\u001b[0;34m,\u001b[0m \u001b[0mx0\u001b[0m\u001b[0;34m,\u001b[0m \u001b[0margs\u001b[0m\u001b[0;34m,\u001b[0m \u001b[0mn\u001b[0m\u001b[0;34m)\u001b[0m\u001b[0;34m\u001b[0m\u001b[0;34m\u001b[0m\u001b[0m\n\u001b[0m\u001b[1;32m    411\u001b[0m     \u001b[0mm\u001b[0m \u001b[0;34m=\u001b[0m \u001b[0mshape\u001b[0m\u001b[0;34m[\u001b[0m\u001b[0;36m0\u001b[0m\u001b[0;34m]\u001b[0m\u001b[0;34m\u001b[0m\u001b[0;34m\u001b[0m\u001b[0m\n\u001b[1;32m    412\u001b[0m \u001b[0;34m\u001b[0m\u001b[0m\n",
      "\u001b[0;32m/data0/sw/anaconda3/lib/python3.8/site-packages/scipy/optimize/minpack.py\u001b[0m in \u001b[0;36m_check_func\u001b[0;34m(checker, argname, thefunc, x0, args, numinputs, output_shape)\u001b[0m\n\u001b[1;32m     22\u001b[0m def _check_func(checker, argname, thefunc, x0, args, numinputs,\n\u001b[1;32m     23\u001b[0m                 output_shape=None):\n\u001b[0;32m---> 24\u001b[0;31m     \u001b[0mres\u001b[0m \u001b[0;34m=\u001b[0m \u001b[0matleast_1d\u001b[0m\u001b[0;34m(\u001b[0m\u001b[0mthefunc\u001b[0m\u001b[0;34m(\u001b[0m\u001b[0;34m*\u001b[0m\u001b[0;34m(\u001b[0m\u001b[0;34m(\u001b[0m\u001b[0mx0\u001b[0m\u001b[0;34m[\u001b[0m\u001b[0;34m:\u001b[0m\u001b[0mnuminputs\u001b[0m\u001b[0;34m]\u001b[0m\u001b[0;34m,\u001b[0m\u001b[0;34m)\u001b[0m \u001b[0;34m+\u001b[0m \u001b[0margs\u001b[0m\u001b[0;34m)\u001b[0m\u001b[0;34m)\u001b[0m\u001b[0;34m)\u001b[0m\u001b[0;34m\u001b[0m\u001b[0;34m\u001b[0m\u001b[0m\n\u001b[0m\u001b[1;32m     25\u001b[0m     \u001b[0;32mif\u001b[0m \u001b[0;34m(\u001b[0m\u001b[0moutput_shape\u001b[0m \u001b[0;32mis\u001b[0m \u001b[0;32mnot\u001b[0m \u001b[0;32mNone\u001b[0m\u001b[0;34m)\u001b[0m \u001b[0;32mand\u001b[0m \u001b[0;34m(\u001b[0m\u001b[0mshape\u001b[0m\u001b[0;34m(\u001b[0m\u001b[0mres\u001b[0m\u001b[0;34m)\u001b[0m \u001b[0;34m!=\u001b[0m \u001b[0moutput_shape\u001b[0m\u001b[0;34m)\u001b[0m\u001b[0;34m:\u001b[0m\u001b[0;34m\u001b[0m\u001b[0;34m\u001b[0m\u001b[0m\n\u001b[1;32m     26\u001b[0m         \u001b[0;32mif\u001b[0m \u001b[0;34m(\u001b[0m\u001b[0moutput_shape\u001b[0m\u001b[0;34m[\u001b[0m\u001b[0;36m0\u001b[0m\u001b[0;34m]\u001b[0m \u001b[0;34m!=\u001b[0m \u001b[0;36m1\u001b[0m\u001b[0;34m)\u001b[0m\u001b[0;34m:\u001b[0m\u001b[0;34m\u001b[0m\u001b[0;34m\u001b[0m\u001b[0m\n",
      "\u001b[0;32m/data0/sw/anaconda3/lib/python3.8/site-packages/scipy/optimize/minpack.py\u001b[0m in \u001b[0;36mfunc_wrapped\u001b[0;34m(params)\u001b[0m\n\u001b[1;32m    486\u001b[0m     \u001b[0;32melif\u001b[0m \u001b[0mtransform\u001b[0m\u001b[0;34m.\u001b[0m\u001b[0mndim\u001b[0m \u001b[0;34m==\u001b[0m \u001b[0;36m1\u001b[0m\u001b[0;34m:\u001b[0m\u001b[0;34m\u001b[0m\u001b[0;34m\u001b[0m\u001b[0m\n\u001b[1;32m    487\u001b[0m         \u001b[0;32mdef\u001b[0m \u001b[0mfunc_wrapped\u001b[0m\u001b[0;34m(\u001b[0m\u001b[0mparams\u001b[0m\u001b[0;34m)\u001b[0m\u001b[0;34m:\u001b[0m\u001b[0;34m\u001b[0m\u001b[0;34m\u001b[0m\u001b[0m\n\u001b[0;32m--> 488\u001b[0;31m             \u001b[0;32mreturn\u001b[0m \u001b[0mtransform\u001b[0m \u001b[0;34m*\u001b[0m \u001b[0;34m(\u001b[0m\u001b[0mfunc\u001b[0m\u001b[0;34m(\u001b[0m\u001b[0mxdata\u001b[0m\u001b[0;34m,\u001b[0m \u001b[0;34m*\u001b[0m\u001b[0mparams\u001b[0m\u001b[0;34m)\u001b[0m \u001b[0;34m-\u001b[0m \u001b[0mydata\u001b[0m\u001b[0;34m)\u001b[0m\u001b[0;34m\u001b[0m\u001b[0;34m\u001b[0m\u001b[0m\n\u001b[0m\u001b[1;32m    489\u001b[0m     \u001b[0;32melse\u001b[0m\u001b[0;34m:\u001b[0m\u001b[0;34m\u001b[0m\u001b[0;34m\u001b[0m\u001b[0m\n\u001b[1;32m    490\u001b[0m         \u001b[0;31m# Chisq = (y - yd)^T C^{-1} (y-yd)\u001b[0m\u001b[0;34m\u001b[0m\u001b[0;34m\u001b[0m\u001b[0;34m\u001b[0m\u001b[0m\n",
      "\u001b[0;32m<ipython-input-24-c7cc17aaa481>\u001b[0m in \u001b[0;36mpower_all_fixed\u001b[0;34m(x, a, k)\u001b[0m\n\u001b[1;32m     10\u001b[0m \u001b[0mblue_back\u001b[0m \u001b[0;34m=\u001b[0m  \u001b[0;36m0.14\u001b[0m\u001b[0;34m\u001b[0m\u001b[0;34m\u001b[0m\u001b[0m\n\u001b[1;32m     11\u001b[0m \u001b[0;32mdef\u001b[0m \u001b[0mpower_all_fixed\u001b[0m\u001b[0;34m(\u001b[0m\u001b[0mx\u001b[0m\u001b[0;34m,\u001b[0m \u001b[0ma\u001b[0m\u001b[0;34m,\u001b[0m \u001b[0mk\u001b[0m\u001b[0;34m)\u001b[0m\u001b[0;34m:\u001b[0m\u001b[0;34m\u001b[0m\u001b[0;34m\u001b[0m\u001b[0m\n\u001b[0;32m---> 12\u001b[0;31m     \u001b[0;32mreturn\u001b[0m \u001b[0ma\u001b[0m\u001b[0;34m*\u001b[0m\u001b[0;34m(\u001b[0m\u001b[0mx\u001b[0m\u001b[0;34m**\u001b[0m\u001b[0mk\u001b[0m\u001b[0;34m)\u001b[0m \u001b[0;34m+\u001b[0m \u001b[0mall_back\u001b[0m\u001b[0;34m\u001b[0m\u001b[0;34m\u001b[0m\u001b[0m\n\u001b[0m\u001b[1;32m     13\u001b[0m \u001b[0;32mdef\u001b[0m \u001b[0mpower_red_fixed\u001b[0m\u001b[0;34m(\u001b[0m\u001b[0mx\u001b[0m\u001b[0;34m,\u001b[0m \u001b[0ma\u001b[0m\u001b[0;34m,\u001b[0m \u001b[0mk\u001b[0m\u001b[0;34m)\u001b[0m\u001b[0;34m:\u001b[0m\u001b[0;34m\u001b[0m\u001b[0;34m\u001b[0m\u001b[0m\n\u001b[1;32m     14\u001b[0m     \u001b[0;32mreturn\u001b[0m \u001b[0ma\u001b[0m\u001b[0;34m*\u001b[0m\u001b[0;34m(\u001b[0m\u001b[0mx\u001b[0m\u001b[0;34m**\u001b[0m\u001b[0mk\u001b[0m\u001b[0;34m)\u001b[0m \u001b[0;34m+\u001b[0m \u001b[0mred_back\u001b[0m\u001b[0;34m\u001b[0m\u001b[0;34m\u001b[0m\u001b[0m\n",
      "\u001b[0;31mNameError\u001b[0m: name 'all_back' is not defined"
     ]
    },
    {
     "data": {
      "image/png": "[encoded data removed]",
      "text/plain": [
       "<Figure size 432x288 with 1 Axes>"
      ]
     },
     "metadata": {
      "needs_background": "light"
     },
     "output_type": "display_data"
    }
   ],
   "source": [
    "ig, ax = plt.subplots()\n",
    "plt.title('power law fit of actual UDGs (sky subtracted) - fixed backgrounds')\n",
    "plt.xlabel('log10(Radius [Mpc])')\n",
    "plt.ylabel('log10(mean density[pairs/Mpc^2/UDG])')\n",
    "\n",
    "plt.xlim(-0.8,0.8)\n",
    "plt.ylim(-2.2,0.5)\n",
    "\n",
    "newy = []\n",
    "xp_log = np.log10(x_prime)\n",
    "\n",
    "p0 = [1,-1]\n",
    "popt_power_all, pcov_power_all = scipy.optimize.curve_fit(power_all_fixed, x_prime, y_prime_lin_val, sigma=y_prime_lin_err, p0=p0, bounds=[(-np.inf,-np.inf), (np.inf,np.inf)])\n",
    "newy[:] = [i - all_back for i in y_prime_lin_val]\n",
    "plt.errorbar(xp_log,np.log(newy), yerr=y_prime_lin_err, label='all UDGs', color='g',fmt='o')\n",
    "plt.plot(xp_log, np.log(power_all_fixed(x_prime, *popt_power_all)-all_back), color='g',linestyle='dashed')\n",
    "print('all UDGs constants: ', popt_power_all)\n",
    "print(\"a =\", popt_power_all[0], \"+/-\", pcov_power_all[0,0]**0.5, \"\\nk =\", popt_power_all[1], \"+/-\", pcov_power_all[1,1]**0.5)\n",
    "     \n",
    "popt_power_red, pcov_power_red = scipy.optimize.curve_fit(power_red_fixed, x_prime, y_r_lin_val, sigma=y_r_lin_val ,p0=p0,bounds=[(-np.inf,-np.inf), (np.inf,np.inf)])\n",
    "newy[:] = [i - red_back for i in y_r_lin_val]\n",
    "plt.errorbar(xp_log, np.log(newy), yerr=y_r_lin_err,label='red UDGs', color='r', fmt='o')\n",
    "plt.plot(xp_log, np.log(power_red_fixed(x_prime, *popt_power_red)-red_back), color='r',linestyle='dashed')\n",
    "print('red UDGs constants: ', popt_power_red)\n",
    "print(\"a =\", popt_power_red[0], \"+/-\", pcov_power_red[0,0]**0.5, \"\\nk =\", popt_power_red[1], \"+/-\", pcov_power_red[1,1]**0.5)\n",
    "\n",
    "popt_power_blue, pcov_power_blue = scipy.optimize.curve_fit(power_blue_fixed, x_prime, y_b_lin_val, sigma=y_b_lin_err, p0=p0, bounds=[(-np.inf,-np.inf), (np.inf,np.inf)])\n",
    "newy[:] = [i - blue_back for i in y_b_lin_val]\n",
    "plt.errorbar(xp_log, np.log(newy), yerr=y_b_lin_err ,label='blue UDGs', color='b',fmt='o')\n",
    "plt.plot(xp_log, np.log(power_blue_fixed(x_prime, *popt_power_blue)-blue_back), color='b',linestyle='dashed')\n",
    "print('blue UDGs constants: ', popt_power_blue)\n",
    "print(\"a =\", popt_power_blue[0], \"+/-\", pcov_power_blue[0,0]**0.5, \"\\nk =\", popt_power_blue[1], \"+/-\", pcov_power_blue[1,1]**0.5)\n",
    "\n",
    "ax.legend()\n",
    "#fname = fname + '.pdf'\n",
    "#plt.savefig(fname)\n",
    "plt.show()\n",
    "\n"
   ]
  },
  {
   "cell_type": "code",
   "execution_count": 44,
   "metadata": {},
   "outputs": [
    {
     "ename": "NameError",
     "evalue": "name 'all_back' is not defined",
     "output_type": "error",
     "traceback": [
      "\u001b[0;31m---------------------------------------------------------------------------\u001b[0m",
      "\u001b[0;31mNameError\u001b[0m                                 Traceback (most recent call last)",
      "\u001b[0;32m<ipython-input-44-0a5c1753a6c2>\u001b[0m in \u001b[0;36m<module>\u001b[0;34m\u001b[0m\n\u001b[1;32m     10\u001b[0m \u001b[0;34m\u001b[0m\u001b[0m\n\u001b[1;32m     11\u001b[0m \u001b[0mN1_all\u001b[0m \u001b[0;34m=\u001b[0m \u001b[0mscipy\u001b[0m\u001b[0;34m.\u001b[0m\u001b[0mintegrate\u001b[0m\u001b[0;34m.\u001b[0m\u001b[0mquad\u001b[0m\u001b[0;34m(\u001b[0m\u001b[0mpower_no_back\u001b[0m\u001b[0;34m,\u001b[0m\u001b[0;36m0\u001b[0m\u001b[0;34m,\u001b[0m\u001b[0mr_out\u001b[0m\u001b[0;34m,\u001b[0m\u001b[0margs\u001b[0m\u001b[0;34m=\u001b[0m\u001b[0;34m(\u001b[0m\u001b[0mpopt_power_all\u001b[0m\u001b[0;34m[\u001b[0m\u001b[0;36m0\u001b[0m\u001b[0;34m]\u001b[0m\u001b[0;34m,\u001b[0m \u001b[0mpopt_power_all\u001b[0m\u001b[0;34m[\u001b[0m\u001b[0;36m1\u001b[0m\u001b[0;34m]\u001b[0m\u001b[0;34m)\u001b[0m\u001b[0;34m)\u001b[0m \u001b[0;31m#integrate from o to 0.2 Mpc\u001b[0m\u001b[0;34m\u001b[0m\u001b[0;34m\u001b[0m\u001b[0m\n\u001b[0;32m---> 12\u001b[0;31m \u001b[0mN2_all\u001b[0m \u001b[0;34m=\u001b[0m \u001b[0mscipy\u001b[0m\u001b[0;34m.\u001b[0m\u001b[0mintegrate\u001b[0m\u001b[0;34m.\u001b[0m\u001b[0mquad\u001b[0m\u001b[0;34m(\u001b[0m\u001b[0mbackground\u001b[0m\u001b[0;34m,\u001b[0m\u001b[0;36m0\u001b[0m\u001b[0;34m,\u001b[0m\u001b[0mr_out\u001b[0m\u001b[0;34m,\u001b[0m\u001b[0margs\u001b[0m\u001b[0;34m=\u001b[0m\u001b[0;34m(\u001b[0m\u001b[0mall_back\u001b[0m\u001b[0;34m)\u001b[0m\u001b[0;34m)\u001b[0m\u001b[0;34m\u001b[0m\u001b[0;34m\u001b[0m\u001b[0m\n\u001b[0m\u001b[1;32m     13\u001b[0m \u001b[0mprint\u001b[0m\u001b[0;34m(\u001b[0m\u001b[0;34m\"N1 =\"\u001b[0m\u001b[0;34m,\u001b[0m \u001b[0mN1_all\u001b[0m\u001b[0;34m[\u001b[0m\u001b[0;36m0\u001b[0m\u001b[0;34m]\u001b[0m\u001b[0;34m,\u001b[0m \u001b[0;34m\", N2 =\"\u001b[0m\u001b[0;34m,\u001b[0m \u001b[0mN2_all\u001b[0m\u001b[0;34m[\u001b[0m\u001b[0;36m0\u001b[0m\u001b[0;34m]\u001b[0m\u001b[0;34m,\u001b[0m  \u001b[0;34m\", N1/N2 =\"\u001b[0m\u001b[0;34m,\u001b[0m \u001b[0mN1_all\u001b[0m\u001b[0;34m[\u001b[0m\u001b[0;36m0\u001b[0m\u001b[0;34m]\u001b[0m\u001b[0;34m/\u001b[0m\u001b[0mN2_all\u001b[0m\u001b[0;34m[\u001b[0m\u001b[0;36m0\u001b[0m\u001b[0;34m]\u001b[0m\u001b[0;34m)\u001b[0m\u001b[0;34m\u001b[0m\u001b[0;34m\u001b[0m\u001b[0m\n\u001b[1;32m     14\u001b[0m \u001b[0mprint\u001b[0m\u001b[0;34m(\u001b[0m\u001b[0mN1_all\u001b[0m\u001b[0;34m[\u001b[0m\u001b[0;36m0\u001b[0m\u001b[0;34m]\u001b[0m\u001b[0;34m/\u001b[0m\u001b[0;34m(\u001b[0m\u001b[0mN1_all\u001b[0m\u001b[0;34m[\u001b[0m\u001b[0;36m0\u001b[0m\u001b[0;34m]\u001b[0m\u001b[0;34m+\u001b[0m\u001b[0mN2_all\u001b[0m\u001b[0;34m[\u001b[0m\u001b[0;36m0\u001b[0m\u001b[0;34m]\u001b[0m\u001b[0;34m)\u001b[0m\u001b[0;34m)\u001b[0m\u001b[0;34m\u001b[0m\u001b[0;34m\u001b[0m\u001b[0m\n",
      "\u001b[0;31mNameError\u001b[0m: name 'all_back' is not defined"
     ]
    }
   ],
   "source": [
    "# Defines power law function for fitting\n",
    "def power_no_back(x, a, k):\n",
    "    return 2*np.pi*a*(x**k)*x \n",
    "\n",
    "# Defines function for fitting for background\n",
    "def background(x, b):\n",
    "    return 2*np.pi*b*x\n",
    "\n",
    "r_out = 0.2  # units Mpc\n",
    "\n",
    "N1_all = scipy.integrate.quad(power_no_back,0,r_out,args=(popt_power_all[0], popt_power_all[1])) #integrate from o to 0.2 Mpc\n",
    "N2_all = scipy.integrate.quad(background,0,r_out,args=(all_back))\n",
    "print(\"N1 =\", N1_all[0], \", N2 =\", N2_all[0],  \", N1/N2 =\", N1_all[0]/N2_all[0])\n",
    "print(N1_all[0]/(N1_all[0]+N2_all[0]))\n",
    "\n",
    "N1_red = scipy.integrate.quad(power_no_back,0,r_out,args=(popt_power_red[0], popt_power_red[1]))\n",
    "N2_red = scipy.integrate.quad(background,0,r_out,args=(red_back))\n",
    "print(\"N1 =\", N1_red[0],\", N2 =\", N2_red[0], \", N1/N2 =\", N1_red[0]/N2_red[0])\n",
    "print(N1_red[0]/(N1_red[0]+N2_red[0]))\n",
    "\n",
    "N1_blue = scipy.integrate.quad(power_no_back,0,r_out,args=(popt_power_blue[0], popt_power_blue[1]))\n",
    "N2_blue = scipy.integrate.quad(background,0,r_out,args=(blue_back))\n",
    "print(\"N1 =\", N1_blue[0], \", N2 =\", N2_blue[0], \", N1/N2 =\", N1_blue[0]/N2_blue[0])\n",
    "print(N1_blue[0]/(N1_blue[0]+N2_blue[0]))\n"
   ]
  },
  {
   "cell_type": "code",
   "execution_count": 14,
   "metadata": {},
   "outputs": [],
   "source": []
  },
  {
   "cell_type": "code",
   "execution_count": 16,
   "metadata": {},
   "outputs": [
    {
     "data": {
      "text/latex": [
       "$4110.0007 \\; \\mathrm{}$"
      ],
      "text/plain": [
       "<Quantity 4110.00071157>"
      ]
     },
     "execution_count": 16,
     "metadata": {},
     "output_type": "execute_result"
    }
   ],
   "source": [
    "(Area_survey) * .18"
   ]
  },
  {
   "cell_type": "code",
   "execution_count": 100,
   "metadata": {},
   "outputs": [
    {
     "data": {
      "text/plain": [
       "(0.9772939388597933, -0.710547065153739)"
      ]
     },
     "execution_count": 100,
     "metadata": {},
     "output_type": "execute_result"
    }
   ],
   "source": [
    "popt_power_all[0], popt_power_all[1]"
   ]
  },
  {
   "cell_type": "code",
   "execution_count": 101,
   "metadata": {},
   "outputs": [
    {
     "data": {
      "text/plain": [
       "(0.06314102766793396, 0.05472804102883179)"
      ]
     },
     "execution_count": 101,
     "metadata": {},
     "output_type": "execute_result"
    }
   ],
   "source": [
    "pcov_power_all[0,0]**0.5, pcov_power_all[1,1]**0.5"
   ]
  },
  {
   "cell_type": "code",
   "execution_count": null,
   "metadata": {},
   "outputs": [],
   "source": [
    "0.9772939388597933 +/- 0.06314102766793396 \n",
    "k = -0.710547065153739 +/- 0.05472804102883179\n"
   ]
  },
  {
   "cell_type": "code",
   "execution_count": 107,
   "metadata": {},
   "outputs": [],
   "source": [
    "import random\n",
    "mu_a_all, sigma_a_all = popt_power_all[0], pcov_power_all[0,0]**0.5\n",
    "mu_k_all, sigma_k_all = popt_power_all[1], pcov_power_all[1,1]**0.5\n",
    "s_a_all = np.random.normal(mu_a_all, sigma_a_all, 1000)\n",
    "s_b_all = np.random.normal(mu_k_all, sigma_k_all, 1000)"
   ]
  },
  {
   "cell_type": "code",
   "execution_count": null,
   "metadata": {},
   "outputs": [],
   "source": [
    "0.976895765516375 +/- 0.06304122141993207 \n",
    "k = -0.7113421012145348 +/- 0.05473437335649142 "
   ]
  },
  {
   "cell_type": "code",
   "execution_count": null,
   "metadata": {},
   "outputs": [],
   "source": []
  }
 ],
 "metadata": {
  "kernelspec": {
   "display_name": "Python 3",
   "language": "python",
   "name": "python3"
  },
  "language_info": {
   "codemirror_mode": {
    "name": "ipython",
    "version": 3
   },
   "file_extension": ".py",
   "mimetype": "text/x-python",
   "name": "python",
   "nbconvert_exporter": "python",
   "pygments_lexer": "ipython3",
   "version": "3.8.8"
  }
 },
 "nbformat": 4,
 "nbformat_minor": 4
}
