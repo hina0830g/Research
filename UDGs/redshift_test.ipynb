{
 "cells": [
  {
   "cell_type": "code",
   "execution_count": 108,
   "metadata": {},
   "outputs": [],
   "source": [
    "from dl import authClient as ac, queryClient as qc\n",
    "from dl.helpers.utils import convert\n",
    "from getpass import getpass\n",
    "import pandas as pd\n",
    "import numpy as np\n",
    "import matplotlib.pyplot as plt\n",
    "import matplotlib as mpl\n",
    "from astropy import units as u\n",
    "from astropy.coordinates import SkyCoord\n",
    "from astropy.cosmology import WMAP9 as cosmo\n",
    "import os.path\n",
    "from scipy import stats\n",
    "import requests\n",
    "from astroquery.simbad import Simbad\n",
    "from astropy import coordinates\n",
    "from astropy.coordinates import search_around_3d\n",
    "from astropy.table import QTable, Table, Column\n",
    "from astropy import constants as const"
   ]
  },
  {
   "cell_type": "code",
   "execution_count": 1,
   "metadata": {},
   "outputs": [],
   "source": [
    "# Description: This code determines an appropriate range of redshift for the query \n",
    "# It tries different values of redshift given by cz = 4000000, 6000000, 10000000, 12000000, and 14000000 as an upper limit \n",
    "# and determines which value gives the steepest plot of mean density "
   ]
  },
  {
   "cell_type": "code",
   "execution_count": 228,
   "metadata": {},
   "outputs": [
    {
     "name": "stdout",
     "output_type": "stream",
     "text": [
      "<class 'pandas.core.frame.DataFrame'>\n"
     ]
    }
   ],
   "source": [
    "t = pd.read_csv('result_Simbad_edited.csv')\n",
    "print(type(t))\n",
    "z = t['Z_VALUE']\n",
    "c = const.c\n",
    "v0, v1, v2, v3, v4 = 4000000, 6000000, 10000000, 12000000, 14000000"
   ]
  },
  {
   "cell_type": "code",
   "execution_count": 229,
   "metadata": {},
   "outputs": [],
   "source": [
    "lower_z = v0/c\n",
    "z1 = v1/c\n",
    "z2 = v2/c\n",
    "z3 = v3/c\n",
    "z4 = v4/c"
   ]
  },
  {
   "cell_type": "code",
   "execution_count": 230,
   "metadata": {},
   "outputs": [
    {
     "data": {
      "text/plain": [
       "(<Quantity 0.02001385 s / m>,\n",
       " <Quantity 0.03335641 s / m>,\n",
       " <Quantity 0.04002769 s / m>,\n",
       " <Quantity 0.04669897 s / m>)"
      ]
     },
     "execution_count": 230,
     "metadata": {},
     "output_type": "execute_result"
    }
   ],
   "source": [
    "z1, z2, z3, z4"
   ]
  },
  {
   "cell_type": "code",
   "execution_count": 218,
   "metadata": {},
   "outputs": [],
   "source": [
    "upper_z = z1 # Try z1 ~ z4"
   ]
  },
  {
   "cell_type": "code",
   "execution_count": 219,
   "metadata": {},
   "outputs": [],
   "source": [
    "df = t[(t['Z_VALUE']<upper_z) & (t['Z_VALUE']>lower_z)]"
   ]
  },
  {
   "cell_type": "code",
   "execution_count": 220,
   "metadata": {},
   "outputs": [],
   "source": [
    "sep_all = df['separation']"
   ]
  },
  {
   "cell_type": "code",
   "execution_count": 221,
   "metadata": {},
   "outputs": [],
   "source": [
    "sep_red, sep_blue = np.array([]), np.array([])\n",
    "color = np.array(df['color'])\n",
    "for i in range(len(df)):\n",
    "    if color[i] < 0.45:\n",
    "        #print('blue')\n",
    "        sep_blue = np.append(sep_blue, np.array(df['separation'])[i])\n",
    "    elif color[i] < 0.9:\n",
    "        #print('red')\n",
    "        sep_red = np.append(sep_red, np.array(df['separation'])[i])"
   ]
  },
  {
   "cell_type": "code",
   "execution_count": 222,
   "metadata": {},
   "outputs": [
    {
     "data": {
      "text/plain": [
       "array([0.05      , 0.062353  , 0.07775793, 0.0969688 , 0.1209259 ,\n",
       "       0.15080185, 0.18805895, 0.23452079, 0.29246148, 0.36471701,\n",
       "       0.45482397, 0.56719276, 0.70732338, 0.88207467, 1.1       ])"
      ]
     },
     "execution_count": 222,
     "metadata": {},
     "output_type": "execute_result"
    },
    {
     "data": {
      "image/png": "[encoded data removed]",
      "text/plain": [
       "<Figure size 432x288 with 1 Axes>"
      ]
     },
     "metadata": {
      "needs_background": "light"
     },
     "output_type": "display_data"
    }
   ],
   "source": [
    "fig, ax = plt.subplots()\n",
    "# bins_list is used to adjust the number of bins in linear scale\n",
    "#bins_list = [0, 0.1, 0.2, 0.3, 0.4, 0.5, 0.6, 0.7, 0.8, 0.9, 1, 1.1, 1.2, 1.3, 1.4, 1.5]\n",
    "\n",
    "# set do_log = 0 for linear bins, = 1 for log bins\n",
    "do_log = 1\n",
    "\n",
    "ax.set(title='separation for all UDGs', xlabel='separation in Mpc')\n",
    "\n",
    "if do_log == 1:\n",
    "    hist_UDGs = plt.hist(sep_all, bins=np.logspace(start=np.log10(0.05), stop=np.log10(1.1), num=15),density=False)\n",
    "    plt.gca().set_xscale(\"log\")\n",
    "else:\n",
    "    hist_UDGs = plt.hist(sep_all, bins=15)\n",
    "    plt.gca().set_xscale('log') # changes the scale to log\n",
    "\n",
    "plt.show\n",
    "#plt.legend;\n",
    "len(hist_UDGs[0])\n",
    "hist_UDGs[1] # edges of each bin (=x values), which later will be used as radius "
   ]
  },
  {
   "cell_type": "code",
   "execution_count": 223,
   "metadata": {},
   "outputs": [
    {
     "data": {
      "text/plain": [
       "<function matplotlib.pyplot.show(*args, **kw)>"
      ]
     },
     "execution_count": 223,
     "metadata": {},
     "output_type": "execute_result"
    },
    {
     "data": {
      "image/png": "[encoded data removed]",
      "text/plain": [
       "<Figure size 432x288 with 1 Axes>"
      ]
     },
     "metadata": {
      "needs_background": "light"
     },
     "output_type": "display_data"
    }
   ],
   "source": [
    "# Creates the histogram of red UDGs\n",
    "#redhist = plt.hist(red, bins=15)#bins_list)\n",
    "#plt.gca().set_xscale('log')\n",
    "\n",
    "ax.set(title='separation for red UDGs', xlabel='separation in Mpc')\n",
    "\n",
    "if do_log == 1:\n",
    "#    redhist = plt.hist(red, bins=np.logspace(start=np.log10(0.05), stop=np.log10(1.1), num=15),density=False)\n",
    "    redhist = plt.hist(sep_red, bins=hist_UDGs[1])\n",
    "    plt.gca().set_xscale(\"log\")\n",
    "    plt.gca().set_xscale(\"log\")\n",
    "else:\n",
    "    redhist = plt.hist(sep_red, bins=15)\n",
    "    plt.gca().set_xscale('log') # changes the scale to log\n",
    "\n",
    "plt.show\n",
    "\n",
    "#redhist[0]"
   ]
  },
  {
   "cell_type": "code",
   "execution_count": 224,
   "metadata": {},
   "outputs": [
    {
     "data": {
      "text/plain": [
       "<bound method Axes.legend of <matplotlib.axes._subplots.AxesSubplot object at 0x7f240a799110>>"
      ]
     },
     "execution_count": 224,
     "metadata": {},
     "output_type": "execute_result"
    },
    {
     "data": {
      "image/png": "[encoded data removed]",
      "text/plain": [
       "<Figure size 432x288 with 1 Axes>"
      ]
     },
     "metadata": {
      "needs_background": "light"
     },
     "output_type": "display_data"
    }
   ],
   "source": [
    "# Creates the histogram of blue UDGs\n",
    "#bluehist = plt.hist(blue, bins=15)#bins_list)\n",
    "#plt.gca().set_xscale('log')\n",
    "\n",
    "ax.set(title='separation for blue UDGs', xlabel='separation in Mpc')\n",
    "\n",
    "if do_log == 1:\n",
    "#    bluehist = plt.hist(blue, bins=np.logspace(start=np.log10(0.05), stop=np.log10(1.1), num=15),density=False)\n",
    "    bluehist = plt.hist(sep_blue, bins=hist_UDGs[1])\n",
    "    plt.gca().set_xscale(\"log\")\n",
    "    \n",
    "else:\n",
    "    bluehist = plt.hist(sep_blue, bins=15)\n",
    "    plt.gca().set_xscale('log') # changes the scale to log\n",
    "\n",
    "#plt.show\n",
    "ax.legend"
   ]
  },
  {
   "cell_type": "code",
   "execution_count": 225,
   "metadata": {},
   "outputs": [
    {
     "name": "stdout",
     "output_type": "stream",
     "text": [
      "[   4360.20495168    6780.80995265   10545.23448403   16399.51143002\n",
      "   25503.84019914   39662.51480595   61681.49848998   95924.50893706\n",
      "  149177.81895831  231995.15864877  360789.25146042  561084.48438117\n",
      "  872575.32573091 1356992.96677958]\n"
     ]
    }
   ],
   "source": [
    "# Below is used to calculate areas of annuli \n",
    "# Skip to the next cell for log scaling\n",
    "area_annulus = np.array([])\n",
    "# Calculates the area of annulus (= pi*(R^2-r^2))\n",
    "a = np.array([])\n",
    "\n",
    "# NEW\n",
    "for i in range(0, 14):\n",
    "    R = hist_UDGs[1][i+1] # R = outer radius\n",
    "    r = hist_UDGs[1][i] # r = inner radius \n",
    "    # calculate area of annulus and convert to kpc^2\n",
    "    area = np.pi*(R**2 - r**2)*(1000*1000)\n",
    "    area_annulus = np.append(area_annulus, area)\n",
    "    a = np.append(a, (hist_UDGs[1][i] + hist_UDGs[1][i+1])/2.)\n",
    "       \n",
    "print(area_annulus)"
   ]
  },
  {
   "cell_type": "code",
   "execution_count": 226,
   "metadata": {},
   "outputs": [
    {
     "name": "stdout",
     "output_type": "stream",
     "text": [
      "[0.00114674 0.00073738 0.00056898 0.00140248 0.00062736 0.00055468\n",
      " 0.00043773 0.00034402 0.00030836 0.00032759 0.00026331 0.00029229\n",
      " 0.0002315  0.0002056 ]\n"
     ]
    }
   ],
   "source": [
    "#hist_UDGs = hist_UDGs[0]\n",
    "#redhist = redhist[0]\n",
    "#bluehist = bluehist[0]\n",
    "UDGs_hist = np.array([])\n",
    "density_red = np.array([])\n",
    "density_blue = np.array([])\n",
    "for i in range(0,14):\n",
    "    density_UDGs = hist_UDGs[0][i]/area_annulus[i]\n",
    "    density_r = redhist[0][i]/area_annulus[i]\n",
    "    density_b = bluehist[0][i]/area_annulus[i]\n",
    "    UDGs_hist = np.append(UDGs_hist, density_UDGs)\n",
    "    density_red = np.append(density_red, density_r)\n",
    "    density_blue = np.append(density_blue, density_b)\n",
    "print(density_red)"
   ]
  },
  {
   "cell_type": "code",
   "execution_count": 227,
   "metadata": {},
   "outputs": [
    {
     "name": "stdout",
     "output_type": "stream",
     "text": [
      "coefficients for all UDGs are:  [-0.6129587  -6.93861788]\n",
      "coefficients for red UDGs are:  [-0.57776614 -7.03544859]\n",
      "coefficients for blue UDGs are:  [-0.69658072 -7.6567665 ]\n"
     ]
    },
    {
     "data": {
      "text/plain": [
       "<matplotlib.legend.Legend at 0x7f240adb75d0>"
      ]
     },
     "execution_count": 227,
     "metadata": {},
     "output_type": "execute_result"
    },
    {
     "data": {
      "image/png": "[encoded data removed]",
      "text/plain": [
       "<Figure size 432x288 with 1 Axes>"
      ]
     },
     "metadata": {
      "needs_background": "light"
     },
     "output_type": "display_data"
    }
   ],
   "source": [
    "plt.title('density of UDGs 4000<cz<5950')\n",
    "plt.xlabel('log10(radius[Mpc])')\n",
    "plt.ylabel('log10(mean density[UDGs/kpc^2])')\n",
    "if do_log == 1:\n",
    "    x_prime = np.log10(a)\n",
    "else:\n",
    "    x_prime = a\n",
    "y_prime = np.log10(UDGs_hist/len(sep_all))\n",
    "y_r = np.log10(density_red/len(sep_all))\n",
    "y_b = np.log10(density_blue/len(sep_all))\n",
    "plt.plot(x_prime, y_prime, label='all UDGs', color='g')\n",
    "plt.plot(x_prime, y_r, label='red', color='red')\n",
    "plt.plot(x_prime, y_b, label='blue', color='blue')\n",
    "\n",
    "coeff = np.polyfit(x_prime, y_prime, 1) # m=slopes & b = y-intercept\n",
    "Y = np.polyval(coeff, x_prime)\n",
    "plt.plot(x_prime,Y,color='g')\n",
    "print('coefficients for all UDGs are: ', coeff)\n",
    "\n",
    "coeff = np.polyfit(x_prime, y_r, 1) # m=slopes & b = y-intercept\n",
    "Y = np.polyval(coeff, x_prime)\n",
    "plt.plot(x_prime,Y,color='r')\n",
    "print('coefficients for red UDGs are: ', coeff)\n",
    "\n",
    "coeff = np.polyfit(x_prime, y_b, 1) # m=slopes & b = y-intercept\n",
    "Y = np.polyval(coeff, x_prime)\n",
    "plt.plot(x_prime,Y,color='b')\n",
    "print('coefficients for blue UDGs are: ', coeff)\n",
    "\n",
    "plt.legend()\n",
    "#plt.plot(x_prime, m*x_prime + b)"
   ]
  },
  {
   "cell_type": "code",
   "execution_count": 107,
   "metadata": {},
   "outputs": [
    {
     "data": {
      "text/latex": [
       "$0.013342564 \\; \\mathrm{\\frac{s}{m}}$"
      ],
      "text/plain": [
       "<Quantity 0.01334256 s / m>"
      ]
     },
     "execution_count": 107,
     "metadata": {},
     "output_type": "execute_result"
    }
   ],
   "source": [
    "lower_z"
   ]
  },
  {
   "cell_type": "code",
   "execution_count": null,
   "metadata": {},
   "outputs": [],
   "source": []
  }
 ],
 "metadata": {
  "kernelspec": {
   "display_name": "Python 3",
   "language": "python",
   "name": "python3"
  },
  "language_info": {
   "codemirror_mode": {
    "name": "ipython",
    "version": 3
   },
   "file_extension": ".py",
   "mimetype": "text/x-python",
   "name": "python",
   "nbconvert_exporter": "python",
   "pygments_lexer": "ipython3",
   "version": "3.8.8"
  }
 },
 "nbformat": 4,
 "nbformat_minor": 4
}
