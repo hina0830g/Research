{
 "cells": [
  {
   "cell_type": "code",
   "execution_count": 29,
   "id": "95a62260",
   "metadata": {},
   "outputs": [],
   "source": [
    "import os\n",
    "import sys\n",
    "import shutil\n",
    "from MontagePy.main import *\n",
    "from MontagePy.archive import *\n",
    "from IPython.display import Image\n",
    "from astropy.io import fits\n",
    "import numpy as np\n",
    "import matplotlib.pyplot as plt"
   ]
  },
  {
   "cell_type": "code",
   "execution_count": 54,
   "id": "9643dc48",
   "metadata": {},
   "outputs": [],
   "source": [
    "# Specify the directory where the files are stored\n",
    "distination_dir =  '/home/akgh2880/research/Bubble Nebula/raw'\n",
    "os.chdir(distination_dir)"
   ]
  },
  {
   "cell_type": "code",
   "execution_count": 31,
   "id": "39635686",
   "metadata": {
    "scrolled": true
   },
   "outputs": [
    {
     "data": {
      "text/plain": [
       "<matplotlib.colorbar.Colorbar at 0x7f72ec1c2b80>"
      ]
     },
     "execution_count": 31,
     "metadata": {},
     "output_type": "execute_result"
    },
    {
     "data": {
      "image/png": "[encoded data removed]",
      "text/plain": [
       "<Figure size 432x288 with 2 Axes>"
      ]
     },
     "metadata": {
      "needs_background": "light"
     },
     "output_type": "display_data"
    }
   ],
   "source": [
    "# Show the raw rrhr image\n",
    "file_name_rrhr = 'AIS_26_0001_sg87-nd-rrhr-Copy1.fits'\n",
    "rrhr_data = fits.getdata(file_name_rrhr)\n",
    "plt.imshow(rrhr_data, cmap='gray')\n",
    "plt.colorbar()"
   ]
  },
  {
   "cell_type": "code",
   "execution_count": 32,
   "id": "f12c8f39",
   "metadata": {},
   "outputs": [
    {
     "data": {
      "text/plain": [
       "array([[-1.1e+30, -1.1e+30,  0.0e+00, ...,  0.0e+00,  0.0e+00,  0.0e+00],\n",
       "       [-1.1e+30, -1.1e+30,  0.0e+00, ...,  0.0e+00,  0.0e+00,  0.0e+00],\n",
       "       [ 0.0e+00,  0.0e+00, -1.1e+30, ..., -1.1e+30, -1.1e+30, -1.1e+30],\n",
       "       ...,\n",
       "       [ 0.0e+00,  0.0e+00, -1.1e+30, ..., -1.1e+30, -1.1e+30, -1.1e+30],\n",
       "       [ 0.0e+00,  0.0e+00, -1.1e+30, ..., -1.1e+30, -1.1e+30, -1.1e+30],\n",
       "       [ 0.0e+00,  0.0e+00, -1.1e+30, ..., -1.1e+30, -1.1e+30, -1.1e+30]],\n",
       "      dtype=float32)"
      ]
     },
     "execution_count": 32,
     "metadata": {},
     "output_type": "execute_result"
    }
   ],
   "source": [
    "# Print out the raw data to see where 0s are which later get replaced with Nans\n",
    "rrhr_data"
   ]
  },
  {
   "cell_type": "code",
   "execution_count": 33,
   "id": "7fbb21fd",
   "metadata": {},
   "outputs": [],
   "source": [
    "hdu = fits.open(file_name_rrhr, mode='update') # Opens the fits file\n",
    "data = hdu[0].data # Get the actual data\n",
    "data[data == 0.] = np.nan # find 0s and replace them with nan\n",
    "data  # shows the edited data \n",
    "hdu.close() # Updates and closes the fits file"
   ]
  },
  {
   "cell_type": "code",
   "execution_count": 34,
   "id": "258d5a22",
   "metadata": {},
   "outputs": [
    {
     "data": {
      "text/plain": [
       "array([[-1.1e+30, -1.1e+30,      nan, ...,      nan,      nan,      nan],\n",
       "       [-1.1e+30, -1.1e+30,      nan, ...,      nan,      nan,      nan],\n",
       "       [     nan,      nan, -1.1e+30, ..., -1.1e+30, -1.1e+30, -1.1e+30],\n",
       "       ...,\n",
       "       [     nan,      nan, -1.1e+30, ..., -1.1e+30, -1.1e+30, -1.1e+30],\n",
       "       [     nan,      nan, -1.1e+30, ..., -1.1e+30, -1.1e+30, -1.1e+30],\n",
       "       [     nan,      nan, -1.1e+30, ..., -1.1e+30, -1.1e+30, -1.1e+30]],\n",
       "      dtype=float32)"
      ]
     },
     "execution_count": 34,
     "metadata": {},
     "output_type": "execute_result"
    }
   ],
   "source": [
    "# Print out the updated arrays to confirm that 0s are now replaced with nans\n",
    "fits.getdata(file_name_rrhr)"
   ]
  },
  {
   "cell_type": "code",
   "execution_count": 40,
   "id": "d8620069",
   "metadata": {},
   "outputs": [
    {
     "data": {
      "text/plain": [
       "<matplotlib.colorbar.Colorbar at 0x7f72eb13c160>"
      ]
     },
     "execution_count": 40,
     "metadata": {},
     "output_type": "execute_result"
    },
    {
     "data": {
      "image/png": "[encoded data removed]",
      "text/plain": [
       "<Figure size 432x288 with 2 Axes>"
      ]
     },
     "metadata": {
      "needs_background": "light"
     },
     "output_type": "display_data"
    }
   ],
   "source": [
    "# Show the raw rrhr image\n",
    "file_name_cnt = 'AIS_26_0001_sg87-nd-cnt-Copy1.fits'\n",
    "cnt_data = fits.getdata(file_name_cnt)\n",
    "plt.imshow(cnt_data, cmap='gray')\n",
    "plt.colorbar()"
   ]
  },
  {
   "cell_type": "code",
   "execution_count": 41,
   "id": "e351d6c6",
   "metadata": {},
   "outputs": [
    {
     "data": {
      "text/plain": [
       "array([[0., 0., 0., ..., 0., 0., 0.],\n",
       "       [0., 0., 0., ..., 0., 0., 0.],\n",
       "       [0., 0., 0., ..., 0., 0., 0.],\n",
       "       ...,\n",
       "       [0., 0., 0., ..., 0., 0., 0.],\n",
       "       [0., 0., 0., ..., 0., 0., 0.],\n",
       "       [0., 0., 0., ..., 0., 0., 0.]], dtype=float32)"
      ]
     },
     "execution_count": 41,
     "metadata": {},
     "output_type": "execute_result"
    }
   ],
   "source": [
    "fits.getdata(file_name_cnt)"
   ]
  },
  {
   "cell_type": "code",
   "execution_count": 42,
   "id": "fdaccc60",
   "metadata": {},
   "outputs": [],
   "source": [
    "hdu = fits.open(file_name_cnt, mode='update') # Opens the fits file\n",
    "data = hdu[0].data # Get the actual data\n",
    "data[data == 0.] = np.nan # find 0s and replace them with nan\n",
    "data  # shows the edited data \n",
    "hdu.close() # Updates and closes the fits file"
   ]
  },
  {
   "cell_type": "code",
   "execution_count": 43,
   "id": "bef698d0",
   "metadata": {},
   "outputs": [
    {
     "data": {
      "text/plain": [
       "array([[nan, nan, nan, ..., nan, nan, nan],\n",
       "       [nan, nan, nan, ..., nan, nan, nan],\n",
       "       [nan, nan, nan, ..., nan, nan, nan],\n",
       "       ...,\n",
       "       [nan, nan, nan, ..., nan, nan, nan],\n",
       "       [nan, nan, nan, ..., nan, nan, nan],\n",
       "       [nan, nan, nan, ..., nan, nan, nan]], dtype=float32)"
      ]
     },
     "execution_count": 43,
     "metadata": {},
     "output_type": "execute_result"
    }
   ],
   "source": [
    "fits.getdata(file_name_cnt)"
   ]
  },
  {
   "cell_type": "code",
   "execution_count": 44,
   "id": "2c9662e6",
   "metadata": {},
   "outputs": [
    {
     "data": {
      "text/plain": [
       "<matplotlib.colorbar.Colorbar at 0x7f72eb07b220>"
      ]
     },
     "execution_count": 44,
     "metadata": {},
     "output_type": "execute_result"
    },
    {
     "data": {
      "image/png": "[encoded data removed]",
      "text/plain": [
       "<Figure size 432x288 with 2 Axes>"
      ]
     },
     "metadata": {
      "needs_background": "light"
     },
     "output_type": "display_data"
    }
   ],
   "source": [
    "plt.imshow(fits.getdata(file_name_cnt), cmap='gray')\n",
    "plt.colorbar()"
   ]
  },
  {
   "cell_type": "code",
   "execution_count": 47,
   "id": "6b7609f9",
   "metadata": {},
   "outputs": [
    {
     "data": {
      "text/plain": [
       "array([[nan, nan, nan, ..., nan, nan, nan],\n",
       "       [nan, nan, nan, ..., nan, nan, nan],\n",
       "       [nan, nan, nan, ..., nan, nan, nan],\n",
       "       ...,\n",
       "       [nan, nan, nan, ..., nan, nan, nan],\n",
       "       [nan, nan, nan, ..., nan, nan, nan],\n",
       "       [nan, nan, nan, ..., nan, nan, nan]], dtype=float32)"
      ]
     },
     "execution_count": 47,
     "metadata": {},
     "output_type": "execute_result"
    }
   ],
   "source": [
    "fits.getdata(file_name_cnt)"
   ]
  }
 ],
 "metadata": {
  "kernelspec": {
   "display_name": "Python 3 (ipykernel)",
   "language": "python",
   "name": "python3"
  },
  "language_info": {
   "codemirror_mode": {
    "name": "ipython",
    "version": 3
   },
   "file_extension": ".py",
   "mimetype": "text/x-python",
   "name": "python",
   "nbconvert_exporter": "python",
   "pygments_lexer": "ipython3",
   "version": "3.8.8"
  }
 },
 "nbformat": 4,
 "nbformat_minor": 5
}
