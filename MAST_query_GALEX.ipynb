{
 "cells": [
  {
   "cell_type": "code",
   "execution_count": 99,
   "metadata": {},
   "outputs": [],
   "source": [
    "import numpy as np\n",
    "import matplotlib.pyplot as py\n",
    "import MontagePy as Montage\n",
    "from MontagePy.main import *\n",
    "from MontagePy.archive import *\n",
    "from IPython.display import Image\n",
    "from astroquery.mast import Catalogs\n",
    "from astroquery.mast import Observations\n",
    "import pandas as pd\n",
    "from astropy.table import QTable\n",
    "from astropy import units as u\n",
    "from astropy.coordinates import SkyCoord\n",
    "import os\n",
    "import shutil"
   ]
  },
  {
   "cell_type": "code",
   "execution_count": 100,
   "metadata": {},
   "outputs": [],
   "source": [
    "# Specify the intial path where you will be creating a new directory\n",
    "path_init = '/home/akgh2880/research'\n",
    "os.chdir(path_init)"
   ]
  },
  {
   "cell_type": "code",
   "execution_count": 101,
   "metadata": {},
   "outputs": [
    {
     "data": {
      "text/plain": [
       "'/home/akgh2880/research/Bubble Nebula'"
      ]
     },
     "execution_count": 101,
     "metadata": {},
     "output_type": "execute_result"
    }
   ],
   "source": [
    "dir_name = 'Bubble Nebula' # Give it a directory name; e.g. name of the target\n",
    "os.makedirs(dir_name)\n",
    "\n",
    "# Changes to the new directory just created\n",
    "path = path_init + '/' + dir_name\n",
    "os.chdir( path )  # Changes directory \n",
    "raw_dir = 'raw'\n",
    "os.makedirs(raw_dir)\n",
    "os.getcwd() # Shows the current working directory"
   ]
  },
  {
   "cell_type": "code",
   "execution_count": 102,
   "metadata": {},
   "outputs": [
    {
     "data": {
      "text/plain": [
       "'/home/akgh2880/research/Bubble Nebula/raw'"
      ]
     },
     "execution_count": 102,
     "metadata": {},
     "output_type": "execute_result"
    }
   ],
   "source": [
    "path_raw = path + '/' + raw_dir\n",
    "os.chdir(path_raw)  # Goes to the raw directory\n",
    "os.getcwd()"
   ]
  },
  {
   "cell_type": "code",
   "execution_count": 103,
   "metadata": {},
   "outputs": [],
   "source": [
    "r = 0.5 # Search radius of query\n",
    "# Input coordinates below \n",
    "RA = '23:20:48'\n",
    "DEC = '+61:12:6'\n",
    "c = SkyCoord(RA, DEC, unit=(u.hourangle, u.deg))\n",
    "#c = SkyCoord('23:20:48', '+61:12:6', unit=(u.hourangle, u.deg))\n",
    "\n",
    "# Runs GALEX query at the given coordinate \n",
    "result_table = Observations.query_criteria(coordinates=c, obs_collection='GALEX', radius=r)# filters=[\"*UV\"])\n",
    "obsid = result_table ['obsid']"
   ]
  },
  {
   "cell_type": "code",
   "execution_count": 104,
   "metadata": {},
   "outputs": [
    {
     "name": "stdout",
     "output_type": "stream",
     "text": [
      "obsid\n",
      "-----\n",
      "10950\n",
      "10951\n",
      "11026\n",
      "11027\n"
     ]
    }
   ],
   "source": [
    "print(obsid)"
   ]
  },
  {
   "cell_type": "code",
   "execution_count": 105,
   "metadata": {},
   "outputs": [
    {
     "data": {
      "text/html": [
       "<i>Table masked=True length=588</i>\n",
       "<table id=\"table139645164445072\" class=\"table-striped table-bordered table-condensed\">\n",
       "<thead><tr><th>obsID</th><th>obs_collection</th><th>dataproduct_type</th><th>obs_id</th><th>description</th><th>type</th><th>dataURI</th><th>productType</th><th>productGroupDescription</th><th>productSubGroupDescription</th><th>productDocumentationURL</th><th>project</th><th>prvversion</th><th>proposal_id</th><th>productFilename</th><th>size</th><th>parent_obsid</th><th>dataRights</th><th>calib_level</th></tr></thead>\n",
       "<thead><tr><th>str5</th><th>str5</th><th>str5</th><th>str19</th><th>str139</th><th>str1</th><th>str135</th><th>str9</th><th>str28</th><th>str12</th><th>str1</th><th>str3</th><th>str1</th><th>str1</th><th>str55</th><th>int64</th><th>str5</th><th>str6</th><th>int64</th></tr></thead>\n",
       "<tr><td>75066</td><td>GALEX</td><td>image</td><td>6371830505138028544</td><td>Catalog of matches between -flagstar and -[n/f]-cat files</td><td>S</td><td>mast:GALEX/url/data/GR6/pipe/02-vsn/50026-AIS_26/d/00-visits/0001-img/07-try/AIS_26_0001_sg87-nd-cat_mch_flagstar.fits.gz</td><td>AUXILIARY</td><td>--</td><td>--</td><td>--</td><td>AIS</td><td>--</td><td>--</td><td>AIS_26_0001_sg87-nd-cat_mch_flagstar.fits.gz</td><td>349515</td><td>10950</td><td>PUBLIC</td><td>2</td></tr>\n",
       "<tr><td>75066</td><td>GALEX</td><td>image</td><td>6371830505138028544</td><td>Count map (J2000)</td><td>S</td><td>mast:GALEX/url/data/GR6/pipe/02-vsn/50026-AIS_26/d/00-visits/0001-img/07-try/AIS_26_0001_sg87-nd-cnt.fits.gz</td><td>AUXILIARY</td><td>--</td><td>--</td><td>--</td><td>AIS</td><td>--</td><td>--</td><td>AIS_26_0001_sg87-nd-cnt.fits.gz</td><td>2807786</td><td>10950</td><td>PUBLIC</td><td>2</td></tr>\n",
       "<tr><td>75066</td><td>GALEX</td><td>image</td><td>6371830505138028544</td><td>Exposure map (J2000)</td><td>S</td><td>mast:GALEX/url/data/GR6/pipe/02-vsn/50026-AIS_26/d/00-visits/0001-img/07-try/AIS_26_0001_sg87-nd-exp.fits.gz</td><td>AUXILIARY</td><td>--</td><td>--</td><td>--</td><td>AIS</td><td>--</td><td>--</td><td>AIS_26_0001_sg87-nd-exp.fits.gz</td><td>63671</td><td>10950</td><td>PUBLIC</td><td>2</td></tr>\n",
       "<tr><td>75066</td><td>GALEX</td><td>image</td><td>6371830505138028544</td><td>Artifact and source star detailed info.</td><td>S</td><td>mast:GALEX/url/data/GR6/pipe/02-vsn/50026-AIS_26/d/00-visits/0001-img/07-try/AIS_26_0001_sg87-nd-flag_tbl.fits.gz</td><td>AUXILIARY</td><td>--</td><td>--</td><td>--</td><td>AIS</td><td>--</td><td>--</td><td>AIS_26_0001_sg87-nd-flag_tbl.fits.gz</td><td>129143</td><td>10950</td><td>PUBLIC</td><td>2</td></tr>\n",
       "<tr><td>75066</td><td>GALEX</td><td>image</td><td>6371830505138028544</td><td>Artifact Flag image (J2000)</td><td>S</td><td>mast:GALEX/url/data/GR6/pipe/02-vsn/50026-AIS_26/d/00-visits/0001-img/07-try/AIS_26_0001_sg87-nd-flags.fits.gz</td><td>AUXILIARY</td><td>--</td><td>--</td><td>--</td><td>AIS</td><td>--</td><td>--</td><td>AIS_26_0001_sg87-nd-flags.fits.gz</td><td>56523</td><td>10950</td><td>PUBLIC</td><td>2</td></tr>\n",
       "<tr><td>75066</td><td>GALEX</td><td>image</td><td>6371830505138028544</td><td>Star catalog for flagging</td><td>S</td><td>mast:GALEX/url/data/GR6/pipe/02-vsn/50026-AIS_26/d/00-visits/0001-img/07-try/AIS_26_0001_sg87-nd-flagstar.fits.gz</td><td>AUXILIARY</td><td>--</td><td>--</td><td>--</td><td>AIS</td><td>--</td><td>--</td><td>AIS_26_0001_sg87-nd-flagstar.fits.gz</td><td>155053</td><td>10950</td><td>PUBLIC</td><td>2</td></tr>\n",
       "<tr><td>75066</td><td>GALEX</td><td>image</td><td>6371830505138028544</td><td>Background subtracted intensity map (J2000)</td><td>S</td><td>mast:GALEX/url/data/GR6/pipe/02-vsn/50026-AIS_26/d/00-visits/0001-img/07-try/AIS_26_0001_sg87-nd-intbgsub.fits.gz</td><td>AUXILIARY</td><td>--</td><td>--</td><td>--</td><td>AIS</td><td>--</td><td>--</td><td>AIS_26_0001_sg87-nd-intbgsub.fits.gz</td><td>15826665</td><td>10950</td><td>PUBLIC</td><td>2</td></tr>\n",
       "<tr><td>75066</td><td>GALEX</td><td>image</td><td>6371830505138028544</td><td>Time-slice count maps (J2000)</td><td>S</td><td>mast:GALEX/url/data/GR6/pipe/02-vsn/50026-AIS_26/d/00-visits/0001-img/07-try/AIS_26_0001_sg87-nd-movie.fits.gz</td><td>AUXILIARY</td><td>--</td><td>--</td><td>--</td><td>AIS</td><td>--</td><td>--</td><td>AIS_26_0001_sg87-nd-movie.fits.gz</td><td>637668</td><td>10950</td><td>PUBLIC</td><td>2</td></tr>\n",
       "<tr><td>75066</td><td>GALEX</td><td>image</td><td>6371830505138028544</td><td>Masked field image (J2000)</td><td>S</td><td>mast:GALEX/url/data/GR6/pipe/02-vsn/50026-AIS_26/d/00-visits/0001-img/07-try/AIS_26_0001_sg87-nd-objmask.fits.gz</td><td>AUXILIARY</td><td>--</td><td>--</td><td>--</td><td>AIS</td><td>--</td><td>--</td><td>AIS_26_0001_sg87-nd-objmask.fits.gz</td><td>152401</td><td>10950</td><td>PUBLIC</td><td>2</td></tr>\n",
       "<tr><td>...</td><td>...</td><td>...</td><td>...</td><td>...</td><td>...</td><td>...</td><td>...</td><td>...</td><td>...</td><td>...</td><td>...</td><td>...</td><td>...</td><td>...</td><td>...</td><td>...</td><td>...</td><td>...</td></tr>\n",
       "<tr><td>11027</td><td>GALEX</td><td>image</td><td>6371900927569297408</td><td>Statistics from -mcat.fits merged catalog</td><td>C</td><td>mast:GALEX/url/data/GR7/pipe/02-vsn/50028-AIS_28/d/01-main/0001-img/07-try/qa/AIS_28_sg09-xd-qa_tabmcat_stats.txt</td><td>INFO</td><td>--</td><td>--</td><td>--</td><td>AIS</td><td>--</td><td>--</td><td>AIS_28_sg09-xd-qa_tabmcat_stats.txt</td><td>603</td><td>11027</td><td>PUBLIC</td><td>2</td></tr>\n",
       "<tr><td>11027</td><td>GALEX</td><td>image</td><td>6371900927569297408</td><td>Manual QA data</td><td>C</td><td>mast:GALEX/url/data/GR7/pipe/02-vsn/50028-AIS_28/d/01-main/0001-img/07-try/qa/manual/AIS_28_sg09-qa.txt</td><td>INFO</td><td>--</td><td>--</td><td>--</td><td>AIS</td><td>--</td><td>--</td><td>AIS_28_sg09-qa.txt</td><td>1149</td><td>11027</td><td>PUBLIC</td><td>2</td></tr>\n",
       "<tr><td>11027</td><td>GALEX</td><td>image</td><td>6371900927569297408</td><td>QAtool-style report</td><td>C</td><td>mast:GALEX/url/data/GR7/pipe/02-vsn/50028-AIS_28/d/01-main/0001-img/07-try/qa/manual/AIS_28_sg09-visit_qatool_report.txt</td><td>INFO</td><td>--</td><td>--</td><td>--</td><td>AIS</td><td>--</td><td>--</td><td>AIS_28_sg09-visit_qatool_report.txt</td><td>502</td><td>11027</td><td>PUBLIC</td><td>2</td></tr>\n",
       "<tr><td>11027</td><td>GALEX</td><td>image</td><td>6371900927569297408</td><td>Output messages from coaddition pipeline</td><td>C</td><td>mast:GALEX/url/data/GR7/pipe/02-vsn/50028-AIS_28/d/01-main/0001-img/07-try/Targpipe_sg09.log</td><td>INFO</td><td>--</td><td>--</td><td>--</td><td>AIS</td><td>--</td><td>--</td><td>Targpipe_sg09.log</td><td>38740</td><td>11027</td><td>PUBLIC</td><td>2</td></tr>\n",
       "<tr><td>11027</td><td>GALEX</td><td>image</td><td>6371900927569297408</td><td>Preview-Full</td><td>C</td><td>mast:GALEX/url/data/GR7/pipe/02-vsn/50028-AIS_28/d/01-main/0001-img/07-try/qa/AIS_28_sg09-xd-int_2color.jpg</td><td>PREVIEW</td><td>--</td><td>--</td><td>--</td><td>AIS</td><td>--</td><td>--</td><td>AIS_28_sg09-xd-int_2color.jpg</td><td>3382719</td><td>11027</td><td>PUBLIC</td><td>2</td></tr>\n",
       "<tr><td>11027</td><td>GALEX</td><td>image</td><td>6371900927569297408</td><td>2 color large jpeg</td><td>C</td><td>mast:GALEX/url/data/GR7/pipe/02-vsn/50028-AIS_28/d/01-main/0001-img/07-try/qa/AIS_28_sg09-xd-int_2color_large.jpg</td><td>PREVIEW</td><td>--</td><td>--</td><td>--</td><td>AIS</td><td>--</td><td>--</td><td>AIS_28_sg09-xd-int_2color_large.jpg</td><td>672114</td><td>11027</td><td>PUBLIC</td><td>2</td></tr>\n",
       "<tr><td>11027</td><td>GALEX</td><td>image</td><td>6371900927569297408</td><td>2 color medium jpeg</td><td>C</td><td>mast:GALEX/url/data/GR7/pipe/02-vsn/50028-AIS_28/d/01-main/0001-img/07-try/qa/AIS_28_sg09-xd-int_2color_medium.jpg</td><td>PREVIEW</td><td>--</td><td>--</td><td>--</td><td>AIS</td><td>--</td><td>--</td><td>AIS_28_sg09-xd-int_2color_medium.jpg</td><td>451546</td><td>11027</td><td>PUBLIC</td><td>2</td></tr>\n",
       "<tr><td>11027</td><td>GALEX</td><td>image</td><td>6371900927569297408</td><td>&quot;``2 color&quot;&quot; images of the whole field in various sizes with and without annotations of bright stars.  NUV flux is yellow and FUV is blue.&quot;</td><td>C</td><td>mast:GALEX/url/data/GR7/pipe/02-vsn/50028-AIS_28/d/01-main/0001-img/07-try/qa/AIS_28_sg09-xd-int_2color_medium_annot.jpg</td><td>PREVIEW</td><td>--</td><td>--</td><td>--</td><td>AIS</td><td>--</td><td>--</td><td>AIS_28_sg09-xd-int_2color_medium_annot.jpg</td><td>665914</td><td>11027</td><td>PUBLIC</td><td>2</td></tr>\n",
       "<tr><td>11027</td><td>GALEX</td><td>image</td><td>6371900927569297408</td><td>2 color small jpeg</td><td>C</td><td>mast:GALEX/url/data/GR7/pipe/02-vsn/50028-AIS_28/d/01-main/0001-img/07-try/qa/AIS_28_sg09-xd-int_2color_small.jpg</td><td>PREVIEW</td><td>--</td><td>--</td><td>--</td><td>AIS</td><td>--</td><td>--</td><td>AIS_28_sg09-xd-int_2color_small.jpg</td><td>110528</td><td>11027</td><td>PUBLIC</td><td>2</td></tr>\n",
       "<tr><td>11027</td><td>GALEX</td><td>image</td><td>6371900927569297408</td><td>Intensity map (J2000)</td><td>C</td><td>mast:GALEX/url/data/GR7/pipe/02-vsn/50028-AIS_28/d/01-main/0001-img/07-try/AIS_28_sg09-nd-int.fits.gz</td><td>SCIENCE</td><td>Minimum Recommended Products</td><td>Imaging Only</td><td>--</td><td>AIS</td><td>--</td><td>--</td><td>AIS_28_sg09-nd-int.fits.gz</td><td>9556305</td><td>11027</td><td>PUBLIC</td><td>2</td></tr>\n",
       "</table>"
      ],
      "text/plain": [
       "<Table masked=True length=588>\n",
       "obsID obs_collection dataproduct_type        obs_id       ...   size   parent_obsid dataRights calib_level\n",
       " str5      str5            str5              str19        ...  int64       str5        str6       int64   \n",
       "----- -------------- ---------------- ------------------- ... -------- ------------ ---------- -----------\n",
       "75066          GALEX            image 6371830505138028544 ...   349515        10950     PUBLIC           2\n",
       "75066          GALEX            image 6371830505138028544 ...  2807786        10950     PUBLIC           2\n",
       "75066          GALEX            image 6371830505138028544 ...    63671        10950     PUBLIC           2\n",
       "75066          GALEX            image 6371830505138028544 ...   129143        10950     PUBLIC           2\n",
       "75066          GALEX            image 6371830505138028544 ...    56523        10950     PUBLIC           2\n",
       "75066          GALEX            image 6371830505138028544 ...   155053        10950     PUBLIC           2\n",
       "75066          GALEX            image 6371830505138028544 ... 15826665        10950     PUBLIC           2\n",
       "75066          GALEX            image 6371830505138028544 ...   637668        10950     PUBLIC           2\n",
       "75066          GALEX            image 6371830505138028544 ...   152401        10950     PUBLIC           2\n",
       "  ...            ...              ...                 ... ...      ...          ...        ...         ...\n",
       "11027          GALEX            image 6371900927569297408 ...      603        11027     PUBLIC           2\n",
       "11027          GALEX            image 6371900927569297408 ...     1149        11027     PUBLIC           2\n",
       "11027          GALEX            image 6371900927569297408 ...      502        11027     PUBLIC           2\n",
       "11027          GALEX            image 6371900927569297408 ...    38740        11027     PUBLIC           2\n",
       "11027          GALEX            image 6371900927569297408 ...  3382719        11027     PUBLIC           2\n",
       "11027          GALEX            image 6371900927569297408 ...   672114        11027     PUBLIC           2\n",
       "11027          GALEX            image 6371900927569297408 ...   451546        11027     PUBLIC           2\n",
       "11027          GALEX            image 6371900927569297408 ...   665914        11027     PUBLIC           2\n",
       "11027          GALEX            image 6371900927569297408 ...   110528        11027     PUBLIC           2\n",
       "11027          GALEX            image 6371900927569297408 ...  9556305        11027     PUBLIC           2"
      ]
     },
     "execution_count": 105,
     "metadata": {},
     "output_type": "execute_result"
    }
   ],
   "source": [
    "Observations.get_product_list(obsid)"
   ]
  },
  {
   "cell_type": "code",
   "execution_count": 106,
   "metadata": {},
   "outputs": [],
   "source": [
    "data_products = Observations.get_product_list(obsid)\n",
    "\n",
    "# Converts data products to panda data frame to execute suffix search\n",
    "data_products =  data_products.to_pandas()\n",
    "\n",
    "# Finds cnt, rrhr, and skybg files and stores as DP_cnt, DP_rrhr, and DP_skybg (= suffix search)\n",
    "DP_cnt = data_products[(data_products['productFilename'].str.endswith('-cnt.fits.gz'))] \n",
    "DP_rrhr = data_products[(data_products['productFilename'].str.endswith('-rrhr.fits.gz'))] \n",
    "DP_skybg = data_products[(data_products['productFilename'].str.endswith('-skybg.fits.gz'))] \n",
    "\n",
    "# Convert data frame back to QTable\n",
    "DP_cnt = QTable.from_pandas(DP_cnt)\n",
    "DP_rrhr = QTable.from_pandas(DP_rrhr)\n",
    "DP_skybg = QTable.from_pandas(DP_skybg)"
   ]
  },
  {
   "cell_type": "code",
   "execution_count": 107,
   "metadata": {},
   "outputs": [
    {
     "name": "stdout",
     "output_type": "stream",
     "text": [
      "Downloading URL https://mast.stsci.edu/api/v0.1/Download/file?uri=mast:GALEX/url/data/GR6/pipe/02-vsn/50026-AIS_26/d/00-visits/0001-img/07-try/AIS_26_0001_sg87-nd-cnt.fits.gz to ./mastDownload/GALEX/6371830505138028544/AIS_26_0001_sg87-nd-cnt.fits.gz ... [Done]\n",
      "Downloading URL https://mast.stsci.edu/api/v0.1/Download/file?uri=mast:GALEX/url/data/GR6/pipe/02-vsn/50026-AIS_26/d/00-visits/0003-img/07-try/AIS_26_0003_sg87-nd-cnt.fits.gz to ./mastDownload/GALEX/6371830505205137408/AIS_26_0003_sg87-nd-cnt.fits.gz ... [Done]\n",
      "Downloading URL https://mast.stsci.edu/api/v0.1/Download/file?uri=mast:GALEX/url/data/GR6/pipe/02-vsn/50026-AIS_26/d/00-visits/0001-img/07-try/AIS_26_0001_sg88-nd-cnt.fits.gz to ./mastDownload/GALEX/6371830506211770368/AIS_26_0001_sg88-nd-cnt.fits.gz ... [Done]\n",
      "Downloading URL https://mast.stsci.edu/api/v0.1/Download/file?uri=mast:GALEX/url/data/GR6/pipe/02-vsn/50026-AIS_26/d/01-main/0001-img/07-try/AIS_26_sg87-nd-cnt.fits.gz to ./mastDownload/GALEX/6371830642576982016/AIS_26_sg87-nd-cnt.fits.gz ... [Done]\n",
      "Downloading URL https://mast.stsci.edu/api/v0.1/Download/file?uri=mast:GALEX/url/data/GR6/pipe/02-vsn/50026-AIS_26/d/01-main/0001-img/07-try/AIS_26_sg88-nd-cnt.fits.gz to ./mastDownload/GALEX/6371830643650723840/AIS_26_sg88-nd-cnt.fits.gz ... [Done]\n",
      "Downloading URL https://mast.stsci.edu/api/v0.1/Download/file?uri=mast:GALEX/url/data/GR7/pipe/02-vsn/50028-AIS_28/d/00-visits/0001-img/07-try/AIS_28_0001_sg08-nd-cnt.fits.gz to ./mastDownload/GALEX/6371900789056602112/AIS_28_0001_sg08-nd-cnt.fits.gz ... [Done]\n",
      "Downloading URL https://mast.stsci.edu/api/v0.1/Download/file?uri=mast:GALEX/url/data/GR7/pipe/02-vsn/50028-AIS_28/d/00-visits/0001-img/07-try/AIS_28_0001_sg09-nd-cnt.fits.gz to ./mastDownload/GALEX/6371900790130343936/AIS_28_0001_sg09-nd-cnt.fits.gz ... [Done]\n",
      "Downloading URL https://mast.stsci.edu/api/v0.1/Download/file?uri=mast:GALEX/url/data/GR7/pipe/02-vsn/50028-AIS_28/d/01-main/0001-img/07-try/AIS_28_sg08-nd-cnt.fits.gz to ./mastDownload/GALEX/6371900926495555584/AIS_28_sg08-nd-cnt.fits.gz ... [Done]\n",
      "Downloading URL https://mast.stsci.edu/api/v0.1/Download/file?uri=mast:GALEX/url/data/GR7/pipe/02-vsn/50028-AIS_28/d/01-main/0001-img/07-try/AIS_28_sg09-nd-cnt.fits.gz to ./mastDownload/GALEX/6371900927569297408/AIS_28_sg09-nd-cnt.fits.gz ... [Done]\n",
      "Downloading URL https://mast.stsci.edu/api/v0.1/Download/file?uri=mast:GALEX/url/data/GR6/pipe/02-vsn/50026-AIS_26/d/00-visits/0001-img/07-try/AIS_26_0001_sg87-nd-rrhr.fits.gz to ./mastDownload/GALEX/6371830505138028544/AIS_26_0001_sg87-nd-rrhr.fits.gz ... [Done]\n",
      "Downloading URL https://mast.stsci.edu/api/v0.1/Download/file?uri=mast:GALEX/url/data/GR6/pipe/02-vsn/50026-AIS_26/d/00-visits/0003-img/07-try/AIS_26_0003_sg87-nd-rrhr.fits.gz to ./mastDownload/GALEX/6371830505205137408/AIS_26_0003_sg87-nd-rrhr.fits.gz ... [Done]\n",
      "Downloading URL https://mast.stsci.edu/api/v0.1/Download/file?uri=mast:GALEX/url/data/GR6/pipe/02-vsn/50026-AIS_26/d/00-visits/0001-img/07-try/AIS_26_0001_sg88-nd-rrhr.fits.gz to ./mastDownload/GALEX/6371830506211770368/AIS_26_0001_sg88-nd-rrhr.fits.gz ... [Done]\n",
      "Downloading URL https://mast.stsci.edu/api/v0.1/Download/file?uri=mast:GALEX/url/data/GR6/pipe/02-vsn/50026-AIS_26/d/01-main/0001-img/07-try/AIS_26_sg87-nd-rrhr.fits.gz to ./mastDownload/GALEX/6371830642576982016/AIS_26_sg87-nd-rrhr.fits.gz ... [Done]\n",
      "Downloading URL https://mast.stsci.edu/api/v0.1/Download/file?uri=mast:GALEX/url/data/GR6/pipe/02-vsn/50026-AIS_26/d/01-main/0001-img/07-try/AIS_26_sg88-nd-rrhr.fits.gz to ./mastDownload/GALEX/6371830643650723840/AIS_26_sg88-nd-rrhr.fits.gz ... [Done]\n",
      "Downloading URL https://mast.stsci.edu/api/v0.1/Download/file?uri=mast:GALEX/url/data/GR7/pipe/02-vsn/50028-AIS_28/d/00-visits/0001-img/07-try/AIS_28_0001_sg08-nd-rrhr.fits.gz to ./mastDownload/GALEX/6371900789056602112/AIS_28_0001_sg08-nd-rrhr.fits.gz ... [Done]\n",
      "Downloading URL https://mast.stsci.edu/api/v0.1/Download/file?uri=mast:GALEX/url/data/GR7/pipe/02-vsn/50028-AIS_28/d/00-visits/0001-img/07-try/AIS_28_0001_sg09-nd-rrhr.fits.gz to ./mastDownload/GALEX/6371900790130343936/AIS_28_0001_sg09-nd-rrhr.fits.gz ... [Done]\n",
      "Downloading URL https://mast.stsci.edu/api/v0.1/Download/file?uri=mast:GALEX/url/data/GR7/pipe/02-vsn/50028-AIS_28/d/01-main/0001-img/07-try/AIS_28_sg08-nd-rrhr.fits.gz to ./mastDownload/GALEX/6371900926495555584/AIS_28_sg08-nd-rrhr.fits.gz ... [Done]\n",
      "Downloading URL https://mast.stsci.edu/api/v0.1/Download/file?uri=mast:GALEX/url/data/GR7/pipe/02-vsn/50028-AIS_28/d/01-main/0001-img/07-try/AIS_28_sg09-nd-rrhr.fits.gz to ./mastDownload/GALEX/6371900927569297408/AIS_28_sg09-nd-rrhr.fits.gz ... [Done]\n",
      "Downloading URL https://mast.stsci.edu/api/v0.1/Download/file?uri=mast:GALEX/url/data/GR6/pipe/02-vsn/50026-AIS_26/d/00-visits/0001-img/07-try/AIS_26_0001_sg87-nd-skybg.fits.gz to ./mastDownload/GALEX/6371830505138028544/AIS_26_0001_sg87-nd-skybg.fits.gz ... [Done]\n",
      "Downloading URL https://mast.stsci.edu/api/v0.1/Download/file?uri=mast:GALEX/url/data/GR6/pipe/02-vsn/50026-AIS_26/d/00-visits/0003-img/07-try/AIS_26_0003_sg87-nd-skybg.fits.gz to ./mastDownload/GALEX/6371830505205137408/AIS_26_0003_sg87-nd-skybg.fits.gz ... [Done]\n",
      "Downloading URL https://mast.stsci.edu/api/v0.1/Download/file?uri=mast:GALEX/url/data/GR6/pipe/02-vsn/50026-AIS_26/d/00-visits/0001-img/07-try/AIS_26_0001_sg88-nd-skybg.fits.gz to ./mastDownload/GALEX/6371830506211770368/AIS_26_0001_sg88-nd-skybg.fits.gz ... [Done]\n",
      "Downloading URL https://mast.stsci.edu/api/v0.1/Download/file?uri=mast:GALEX/url/data/GR6/pipe/02-vsn/50026-AIS_26/d/01-main/0001-img/07-try/AIS_26_sg87-nd-skybg.fits.gz to ./mastDownload/GALEX/6371830642576982016/AIS_26_sg87-nd-skybg.fits.gz ... [Done]\n",
      "Downloading URL https://mast.stsci.edu/api/v0.1/Download/file?uri=mast:GALEX/url/data/GR6/pipe/02-vsn/50026-AIS_26/d/01-main/0001-img/07-try/AIS_26_sg88-nd-skybg.fits.gz to ./mastDownload/GALEX/6371830643650723840/AIS_26_sg88-nd-skybg.fits.gz ... [Done]\n",
      "Downloading URL https://mast.stsci.edu/api/v0.1/Download/file?uri=mast:GALEX/url/data/GR7/pipe/02-vsn/50028-AIS_28/d/00-visits/0001-img/07-try/AIS_28_0001_sg08-nd-skybg.fits.gz to ./mastDownload/GALEX/6371900789056602112/AIS_28_0001_sg08-nd-skybg.fits.gz ... [Done]\n",
      "Downloading URL https://mast.stsci.edu/api/v0.1/Download/file?uri=mast:GALEX/url/data/GR7/pipe/02-vsn/50028-AIS_28/d/00-visits/0001-img/07-try/AIS_28_0001_sg09-nd-skybg.fits.gz to ./mastDownload/GALEX/6371900790130343936/AIS_28_0001_sg09-nd-skybg.fits.gz ... [Done]\n",
      "Downloading URL https://mast.stsci.edu/api/v0.1/Download/file?uri=mast:GALEX/url/data/GR7/pipe/02-vsn/50028-AIS_28/d/01-main/0001-img/07-try/AIS_28_sg08-nd-skybg.fits.gz to ./mastDownload/GALEX/6371900926495555584/AIS_28_sg08-nd-skybg.fits.gz ... [Done]\n",
      "Downloading URL https://mast.stsci.edu/api/v0.1/Download/file?uri=mast:GALEX/url/data/GR7/pipe/02-vsn/50028-AIS_28/d/01-main/0001-img/07-try/AIS_28_sg09-nd-skybg.fits.gz to ./mastDownload/GALEX/6371900927569297408/AIS_28_sg09-nd-skybg.fits.gz ... [Done]\n"
     ]
    }
   ],
   "source": [
    "# Download selected files\n",
    "manifest = Observations.download_products(DP_cnt)\n",
    "manifest = Observations.download_products(DP_rrhr)\n",
    "manifest = Observations.download_products(DP_skybg)\n"
   ]
  },
  {
   "cell_type": "code",
   "execution_count": 108,
   "metadata": {},
   "outputs": [],
   "source": [
    "extension_dir = 'mastDownload/GALEX' # Directories that get automatically created by MAST query\n",
    "os.chdir(path + '/' + raw_dir + '/' + extension_dir)\n",
    "os.getcwd()\n",
    "current_folder = os.getcwd() \n",
    "list_dir = os.listdir(current_folder) \n",
    "  \n",
    "# enumerate on list_dir to get the \n",
    "# content of all the folders ans store it in a dictionary\n",
    "content_list = {}\n",
    "for index, val in enumerate(list_dir):\n",
    "    path = os.path.join(current_folder, val)\n",
    "    content_list[ list_dir[index] ] = os.listdir(path)"
   ]
  },
  {
   "cell_type": "code",
   "execution_count": 109,
   "metadata": {},
   "outputs": [],
   "source": [
    "merge_folder_path = current_folder\n",
    "# loop through the list of folders\n",
    "for sub_dir in content_list:\n",
    "  \n",
    "    # loop through the contents of the\n",
    "    # list of folders\n",
    "    for contents in content_list[sub_dir]:\n",
    "  \n",
    "        # make the path of the content to move \n",
    "        path_to_content = sub_dir + \"/\" + contents  \n",
    "  \n",
    "        # make the path with the current folder\n",
    "        dir_to_move = os.path.join(current_folder, path_to_content )\n",
    "  \n",
    "        # move the file\n",
    "        shutil.move(dir_to_move, merge_folder_path)"
   ]
  },
  {
   "cell_type": "code",
   "execution_count": 113,
   "metadata": {},
   "outputs": [],
   "source": [
    "sourcepath = current_folder\n",
    "sourcefiles = os.listdir(sourcepath)\n",
    "destinationpath = path_raw # Moves all the files to the raw directory\n",
    "for file in sourcefiles:\n",
    "    #print(file)\n",
    "    if file.endswith('.gz'):\n",
    "        #print(file)\n",
    "        shutil.move(os.path.join(sourcepath,file), os.path.join(destinationpath,file))"
   ]
  },
  {
   "cell_type": "code",
   "execution_count": 115,
   "metadata": {},
   "outputs": [],
   "source": [
    "import glob\n",
    "from sh import gunzip\n",
    "os.chdir(destinationpath)\n",
    "for file in glob.glob(\"*.gz\"):\n",
    "    try:\n",
    "        gunzip(file)\n",
    "    except:\n",
    "        print('already exists')"
   ]
  },
  {
   "cell_type": "code",
   "execution_count": 118,
   "metadata": {},
   "outputs": [],
   "source": [
    "shutil.rmtree(destinationpath + '/' + 'mastDownload') "
   ]
  }
 ],
 "metadata": {
  "interpreter": {
   "hash": "b69752da2d015270410bcc9a5af9eccf256c0d0e60d29da11f7a76bb5a5b321c"
  },
  "kernelspec": {
   "display_name": "Python 3 (ipykernel)",
   "language": "python",
   "name": "python3"
  },
  "language_info": {
   "codemirror_mode": {
    "name": "ipython",
    "version": 3
   },
   "file_extension": ".py",
   "mimetype": "text/x-python",
   "name": "python",
   "nbconvert_exporter": "python",
   "pygments_lexer": "ipython3",
   "version": "3.8.8"
  }
 },
 "nbformat": 4,
 "nbformat_minor": 2
}
